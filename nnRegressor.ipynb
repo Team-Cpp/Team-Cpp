{
 "nbformat": 4,
 "nbformat_minor": 2,
 "metadata": {
  "language_info": {
   "name": "python",
   "codemirror_mode": {
    "name": "ipython",
    "version": 3
   },
   "version": "3.7.3-final"
  },
  "orig_nbformat": 2,
  "file_extension": ".py",
  "mimetype": "text/x-python",
  "name": "python",
  "npconvert_exporter": "python",
  "pygments_lexer": "ipython3",
  "version": 3,
  "kernelspec": {
   "name": "python37364bitbb7c44ca98d446e898d6e98bc626e909",
   "display_name": "Python 3.7.3 64-bit"
  }
 },
 "cells": [
  {
   "cell_type": "code",
   "execution_count": 85,
   "metadata": {},
   "outputs": [],
   "source": [
    "import os\n",
    "import sys\n",
    "import time\n",
    "import warnings\n",
    "import numpy as np\n",
    "import rrsBdtDevDependencies\n",
    "import dataFunctions as dataFun\n",
    "from datetime import datetime as dt\n",
    "from datetime import timedelta as td\n",
    "import matplotlib.pyplot as plt\n",
    "import pandas as pd\n",
    "import quandl\n",
    "QAPIKEY = \"YpAydSEsKoSAfuQ9UKhu\"\n",
    "quandl.ApiConfig.api_key = QAPIKEY\n",
    "import yfinance as yf\n",
    "import pickle\n",
    "from sklearn.metrics import mean_squared_error\n",
    "from sklearn.model_selection import train_test_split\n",
    "import logging\n",
    "import tensorflow as tf\n",
    "from keras.models import Sequential, load_model\n",
    "from keras.layers import LSTM\n",
    "from keras.layers import Dropout\n",
    "from keras.layers import Dense\n",
    "from keras import optimizers\n",
    "from keras.callbacks import ModelCheckpoint, EarlyStopping, ReduceLROnPlateau, CSVLogger\n",
    "from tqdm._tqdm_notebook import tqdm_notebook\n"
   ]
  },
  {
   "cell_type": "code",
   "execution_count": 447,
   "metadata": {},
   "outputs": [],
   "source": [
    "### CONFIGURE ###\n",
    "\n",
    "# Cost parameters set by the task for running ship for one day\n",
    "barrels = 750000\n",
    "costPerDay = 30000\n",
    "daysToPredict = 1\n",
    "\n",
    "# Data split for training and testing.\n",
    "trainDataDate = '2017-01-01'\n",
    "testSplitDate = '2019-11-26'\n",
    "\n",
    "# Parameters for the model.\n",
    "params = {\n",
    "    \"batch_size\": 20,  # 20<16<10, 25 was a bust\n",
    "    \"epochs\": 300,\n",
    "    \"lr\": 0.00010000,\n",
    "    \"time_steps\": 5\n",
    "}\n",
    "\n",
    "# Replace with Cloud path with data later on\n",
    "PATH_TO_DRIVE_ML_DATA = \"/Users/qw19176/Documents/Courses/Team-Cpp\"\n",
    "INPUT_PATH = PATH_TO_DRIVE_ML_DATA+\"/inputs/\"\n",
    "OUTPUT_PATH = PATH_TO_DRIVE_ML_DATA+\"/outputs/lstm/\"\n",
    "TIME_STEPS = params[\"time_steps\"]\n",
    "BATCH_SIZE = params[\"batch_size\"]\n",
    "\n",
    "# Some environmental parameters.\n",
    "os.environ['TF_CPP_MIN_LOG_LEVEL'] = '2'\n",
    "os.environ['TZ'] = 'Europe/London'\n",
    "time.tzset()\n",
    "stime = time.time()\n",
    "\n",
    "modDate = dt.today().date()\n",
    "dataDate = modDate - td(days=1)\n",
    "updateData = False\n",
    "is_update_model = True\n",
    "\n",
    "dataFileName = \"inputData_\" + str(dataDate) + \".csv\"\n",
    "modFileName = \"LSTM_\" + str(modDate) + \".sav\""
   ]
  },
  {
   "cell_type": "code",
   "execution_count": 283,
   "metadata": {},
   "outputs": [
    {
     "ename": "Exception",
     "evalue": "Directory already exists. Don't override.",
     "output_type": "error",
     "traceback": [
      "\u001b[0;31m---------------------------------------------------------------------------\u001b[0m",
      "\u001b[0;31mException\u001b[0m                                 Traceback (most recent call last)",
      "\u001b[0;32m<ipython-input-283-0a70bbc01abb>\u001b[0m in \u001b[0;36m<module>\u001b[0;34m\u001b[0m\n\u001b[1;32m      4\u001b[0m     \u001b[0mprint\u001b[0m\u001b[0;34m(\u001b[0m\u001b[0;34m\"Directory created\"\u001b[0m\u001b[0;34m,\u001b[0m \u001b[0mOUTPUT_PATH\u001b[0m\u001b[0;34m)\u001b[0m\u001b[0;34m\u001b[0m\u001b[0;34m\u001b[0m\u001b[0m\n\u001b[1;32m      5\u001b[0m \u001b[0;32melse\u001b[0m\u001b[0;34m:\u001b[0m\u001b[0;34m\u001b[0m\u001b[0;34m\u001b[0m\u001b[0m\n\u001b[0;32m----> 6\u001b[0;31m     \u001b[0;32mraise\u001b[0m \u001b[0mException\u001b[0m\u001b[0;34m(\u001b[0m\u001b[0;34m\"Directory already exists. Don't override.\"\u001b[0m\u001b[0;34m)\u001b[0m\u001b[0;34m\u001b[0m\u001b[0;34m\u001b[0m\u001b[0m\n\u001b[0m\u001b[1;32m      7\u001b[0m \u001b[0;34m\u001b[0m\u001b[0m\n\u001b[1;32m      8\u001b[0m \u001b[0;34m\u001b[0m\u001b[0m\n",
      "\u001b[0;31mException\u001b[0m: Directory already exists. Don't override."
     ]
    }
   ],
   "source": [
    "# check if directory already exists\n",
    "if not os.path.exists(OUTPUT_PATH):\n",
    "    os.makedirs(OUTPUT_PATH)\n",
    "    print(\"Directory created\", OUTPUT_PATH)\n",
    "else:\n",
    "    raise Exception(\"Directory already exists. Don't override.\")\n",
    "\n",
    "\n"
   ]
  },
  {
   "cell_type": "code",
   "execution_count": 284,
   "metadata": {},
   "outputs": [],
   "source": [
    "def print_time(text, stime):\n",
    "    seconds = (time.time()-stime)\n",
    "    print(text, seconds//60,\"minutes : \",np.round(seconds%60),\"seconds\")"
   ]
  },
  {
   "cell_type": "code",
   "execution_count": 285,
   "metadata": {},
   "outputs": [
    {
     "name": "stdout",
     "output_type": "stream",
     "text": "Running...\n"
    }
   ],
   "source": [
    "print('Running...')\n",
    "\n",
    "def show_more(df, lines):\n",
    "    with pd.option_context(\"display.max_rows\", lines):\n",
    "        display(df)"
   ]
  },
  {
   "cell_type": "code",
   "execution_count": 286,
   "metadata": {},
   "outputs": [],
   "source": [
    "def create_features(fd, features, label=None, shift = 0, nonShiftFeatures = None):\n",
    "    fd = fd.set_index('Date')\n",
    "    #X = df[['OilProduction', 'NatGasPrices', 'BrentPrices', '20dSMA', 'Momentum_14', 'MACD_12_26', 'MACDdiff_12_26', 'ROC_14', 'RSI_14', 'bollAmplitude', 'distFromTopBoll', 'distFromLowBoll', '20d200dDist','dayofyear','dayofmonth','weekofyear']]\n",
    "\n",
    "    # X = df[['OilProduction', '20dSMA', 'Momentum_14', 'MACD_12_26', 'MACDdiff_12_26', 'ROC_14', 'RSI_14', 'bollAmplitude', 'distFromTopBoll', 'distFromLowBoll', '20d200dDist','dayofyear','dayofmonth','weekofyear']]\n",
    "    # if shift > 0:\n",
    "    #     tiems = X[['dayofyear','dayofmonth','weekofyear']]\n",
    "    #     #X = X[['OilProduction', 'NatGasPrices', 'BrentPrices', '20dSMA', 'Momentum_14', 'MACD_12_26', 'MACDdiff_12_26','ROC_14', 'RSI_14', 'bollAmplitude', 'distFromTopBoll', 'distFromLowBoll', '20d200dDist']].shift(shift)\n",
    "    #     X = X[['OilProduction', '20dSMA', 'Momentum_14', 'MACD_12_26', 'MACDdiff_12_26','ROC_14', 'RSI_14', 'bollAmplitude', 'distFromTopBoll', 'distFromLowBoll', '20d200dDist']].shift(shift)\n",
    "    #     X = X.merge(tiems, how='inner', left_index=True, right_index=True)\n",
    "\n",
    "    X = fd[features]\n",
    "    if shift > 0:\n",
    "        tiems = fd[nonShiftFeatures]\n",
    "        newFeatures = features\n",
    "        for f in nonShiftFeatures:\n",
    "            newFeatures.remove(f)\n",
    "        X = X[newFeatures].shift(shift)\n",
    "        X = X.merge(tiems, how='inner', left_index=True, right_index=True)\n",
    "        X = X.iloc[shift:]\n",
    "\n",
    "    if label:\n",
    "        y = fd[label]\n",
    "        return X, y\n",
    "    return X"
   ]
  },
  {
   "cell_type": "code",
   "execution_count": 448,
   "metadata": {},
   "outputs": [
    {
     "name": "stdout",
     "output_type": "stream",
     "text": "Dataframe already exists, reading from file...\n"
    }
   ],
   "source": [
    "\"\"\"\n",
    "Getting WTI price data \n",
    "\"\"\"\n",
    "\n",
    "if (os.path.exists(INPUT_PATH+dataFileName) and updateData is False):\n",
    "    df = pd.read_csv(INPUT_PATH+dataFileName)\n",
    "    print(\"Dataframe already exists, reading from file...\")\n",
    "else:\n",
    "    print(\"Datafile not found, querying data and building dataframe...\")\n",
    "    wtiData         = quandl.get(\"FRED/DCOILWTICO\")\n",
    "    wtiData.reset_index(level=0, inplace=True)\n",
    "    wtiData         = wtiData.rename(columns={\"Value\": \"Prices\"})\n",
    "    yfStartDate     = wtiData['Date'].iloc[-1].strftime('%Y-%m-%d')\n",
    "    stocks          = \"CL=F\"\n",
    "    period          = \"1d\"\n",
    "    Stocks, yfInfo  = dataFun.yFinData(yfStartDate)\n",
    "    wtiData         = wtiData.append(Stocks, ignore_index =True)\n",
    "    wtiData         = wtiData.sort_values(by = [\"Date\"])\n",
    "\n",
    "    # Getting Oil production data and combining dataframes\n",
    "    oilDF   = dataFun.oilProduction()\n",
    "    df      = dataFun.combineFrames(wtiData,oilDF)\n",
    "    df      = df[np.isfinite(df['Prices'])]\n",
    "    df      = df.reset_index().drop([\"index\"], axis = 1)\n",
    "\n",
    "    # Getting natural gas data and combining frames\n",
    "    natGasData          = quandl.get(\"EIA/NG_RNGWHHD_D\")\n",
    "    natGasData.reset_index(level=0, inplace=True)\n",
    "    natGasData          = natGasData.rename(columns={\"Value\": \"NatGasPrices\"})\n",
    "    yfStartDate         = natGasData['Date'].iloc[-1].strftime('%Y-%m-%d')\n",
    "    stocks              = \"NG=F\"\n",
    "    period              = \"1d\"\n",
    "    NGStocks, yfInfo    = dataFun.yFinData(yfStartDate,stock=stocks,name =\"NatGasPrices\")\n",
    "    natGasData          = natGasData.append(NGStocks, ignore_index =True)\n",
    "    natGasData          = natGasData.sort_values(by = [\"Date\"])\n",
    "    newdf               = pd.merge(df, natGasData, on=['Date'], how =\"left\")\n",
    "\n",
    "    \"\"\"\n",
    "    Getting Brent oil data and combining dataframes\n",
    "    \"\"\"\n",
    "\n",
    "    brentData = quandl.get(\"FRED/DCOILBRENTEU\")\n",
    "    brentData.reset_index(level=0, inplace=True)\n",
    "    name = \"BrentPrices\"\n",
    "    brentData = brentData.rename(columns={\"Value\": name})\n",
    "    yfStartDate = brentData['Date'].iloc[-1].strftime('%Y-%m-%d')\n",
    "    stocks = \"BZ=F\"\n",
    "    period = \"1d\"\n",
    "    BStocks, yfInfo = dataFun.yFinData(yfStartDate,stock=stocks,name = name)\n",
    "    brentData = brentData.append(BStocks, ignore_index =True)\n",
    "    brentData = brentData.sort_values(by = [\"Date\"])\n",
    "    df = pd.merge(newdf, brentData, on=['Date'], how =\"left\")\n",
    "\n",
    "    df[\"BrentPrices\"] = df[\"BrentPrices\"].interpolate(method='nearest')\n",
    "    df[\"NatGasPrices\"] = df[\"NatGasPrices\"].interpolate(method='nearest')\n",
    "\n",
    "    # Calculating the technical indicators for price data\n",
    "    df = df.reset_index().drop([\"index\"], axis = 1)\n",
    "    df[\"20dSMA\"] = dataFun.SMA(20, df[\"Prices\"])\n",
    "    df[\"10dSMA\"] = dataFun.SMA(10, df[\"Prices\"])\n",
    "    df[\"5dSMA\"] = dataFun.SMA(5, df[\"Prices\"])\n",
    "    df[\"50dSMA\"] = dataFun.SMA(50, df[\"Prices\"])\n",
    "    df[\"200dSMA\"] = dataFun.SMA(200, df[\"Prices\"])\n",
    "\n",
    "\n",
    "    df[\"boll_lo\"] = dataFun.bollinger(df['Prices'])[0]\n",
    "    df[\"boll_hi\"] = dataFun.bollinger(df['Prices'])[1]\n",
    "\n",
    "    df = dataFun.momentum(df, 14)\n",
    "    df = dataFun.macd(df, 12, 26)\n",
    "    df = dataFun.rate_of_change(df, 14)\n",
    "    df = dataFun.relative_strength_index(df)\n",
    "\n",
    "    df[\"boll_hi\"] = pd.to_numeric(df[\"boll_hi\"])\n",
    "    df[\"boll_lo\"] = pd.to_numeric(df[\"boll_lo\"])\n",
    "    df[\"20dSMA\"] = pd.to_numeric(df[\"20dSMA\"])\n",
    "    df[\"10dSMA\"] = pd.to_numeric(df[\"10dSMA\"])\n",
    "    df[\"5dSMA\"] = pd.to_numeric(df[\"5dSMA\"])\n",
    "    df[\"50dSMA\"] = pd.to_numeric(df[\"50dSMA\"])\n",
    "    df[\"200dSMA\"] = pd.to_numeric(df[\"200dSMA\"])\n",
    "\n",
    "    df[\"bollAmplitude\"] = df[\"boll_hi\"] - df[\"boll_lo\"]\n",
    "    df[\"distFromTopBoll\"] = df[\"boll_hi\"] - df[\"Prices\"]\n",
    "    df[\"distFromLowBoll\"] = df[\"boll_lo\"] - df[\"Prices\"]\n",
    "    df[\"20d200dDist\"] = np.abs(df[\"20dSMA\"] - df[\"200dSMA\"])\n",
    "\n",
    "    df = df[np.isfinite(df['200dSMA'])]\n",
    "    df = df.rename(columns={\"Production of Crude Oil\": \"OilProduction\"})\n",
    "    df = df.drop_duplicates(\"Date\",keep=\"first\")\n",
    "    df = df[np.isfinite(df['Prices'])]\n",
    "    df = df.reset_index().drop([\"index\"], axis = 1)\n",
    "\n",
    "    \"\"\"\n",
    "    Creating time series features from datetime index\n",
    "    \"\"\"\n",
    "\n",
    "    df['dayofweek'] = df['Date'].dt.dayofweek\n",
    "    df['quarter'] = df['Date'].dt.quarter\n",
    "    df['month'] = df['Date'].dt.month\n",
    "    df['year'] = df['Date'].dt.year\n",
    "    df['dayofyear'] = df['Date'].dt.dayofyear\n",
    "    df['dayofmonth'] = df['Date'].dt.day\n",
    "    df['weekofyear'] = df['Date'].dt.weekofyear\n",
    "\n",
    "    print(\"Saving dataframe to file \", dataFileName, \"at \", INPUT_PATH)\n",
    "    df.to_csv(INPUT_PATH+dataFileName)\n",
    "\n"
   ]
  },
  {
   "cell_type": "code",
   "execution_count": 449,
   "metadata": {},
   "outputs": [
    {
     "data": {
      "text/html": "<div>\n<style scoped>\n    .dataframe tbody tr th:only-of-type {\n        vertical-align: middle;\n    }\n\n    .dataframe tbody tr th {\n        vertical-align: top;\n    }\n\n    .dataframe thead th {\n        text-align: right;\n    }\n</style>\n<table border=\"1\" class=\"dataframe\">\n  <thead>\n    <tr style=\"text-align: right;\">\n      <th></th>\n      <th>Unnamed: 0</th>\n      <th>Date</th>\n      <th>Prices</th>\n      <th>OilProduction</th>\n      <th>NatGasPrices</th>\n      <th>BrentPrices</th>\n      <th>20dSMA</th>\n      <th>10dSMA</th>\n      <th>5dSMA</th>\n      <th>50dSMA</th>\n      <th>...</th>\n      <th>distFromTopBoll</th>\n      <th>distFromLowBoll</th>\n      <th>20d200dDist</th>\n      <th>dayofweek</th>\n      <th>quarter</th>\n      <th>month</th>\n      <th>year</th>\n      <th>dayofyear</th>\n      <th>dayofmonth</th>\n      <th>weekofyear</th>\n    </tr>\n  </thead>\n  <tbody>\n    <tr>\n      <th>0</th>\n      <td>0</td>\n      <td>1986-10-17</td>\n      <td>14.85</td>\n      <td>8773.0</td>\n      <td>NaN</td>\n      <td>NaN</td>\n      <td>14.7820</td>\n      <td>14.943</td>\n      <td>14.748</td>\n      <td>15.0912</td>\n      <td>...</td>\n      <td>0.764336</td>\n      <td>-0.900336</td>\n      <td>0.09925</td>\n      <td>4</td>\n      <td>4</td>\n      <td>10</td>\n      <td>1986</td>\n      <td>290</td>\n      <td>17</td>\n      <td>42</td>\n    </tr>\n    <tr>\n      <th>1</th>\n      <td>1</td>\n      <td>1986-10-20</td>\n      <td>15.17</td>\n      <td>8773.0</td>\n      <td>NaN</td>\n      <td>NaN</td>\n      <td>14.8170</td>\n      <td>14.974</td>\n      <td>14.786</td>\n      <td>15.0910</td>\n      <td>...</td>\n      <td>0.482958</td>\n      <td>-1.188958</td>\n      <td>0.01010</td>\n      <td>0</td>\n      <td>4</td>\n      <td>10</td>\n      <td>1986</td>\n      <td>293</td>\n      <td>20</td>\n      <td>43</td>\n    </tr>\n    <tr>\n      <th>2</th>\n      <td>2</td>\n      <td>1986-10-21</td>\n      <td>15.22</td>\n      <td>8773.0</td>\n      <td>NaN</td>\n      <td>NaN</td>\n      <td>14.8810</td>\n      <td>15.013</td>\n      <td>14.920</td>\n      <td>15.0988</td>\n      <td>...</td>\n      <td>0.405210</td>\n      <td>-1.083210</td>\n      <td>0.11045</td>\n      <td>1</td>\n      <td>4</td>\n      <td>10</td>\n      <td>1986</td>\n      <td>294</td>\n      <td>21</td>\n      <td>43</td>\n    </tr>\n    <tr>\n      <th>3</th>\n      <td>3</td>\n      <td>1986-10-22</td>\n      <td>14.85</td>\n      <td>8773.0</td>\n      <td>NaN</td>\n      <td>NaN</td>\n      <td>14.9085</td>\n      <td>14.938</td>\n      <td>14.924</td>\n      <td>15.0974</td>\n      <td>...</td>\n      <td>0.751177</td>\n      <td>-0.634177</td>\n      <td>0.19295</td>\n      <td>2</td>\n      <td>4</td>\n      <td>10</td>\n      <td>1986</td>\n      <td>295</td>\n      <td>22</td>\n      <td>43</td>\n    </tr>\n    <tr>\n      <th>4</th>\n      <td>4</td>\n      <td>1986-10-23</td>\n      <td>14.88</td>\n      <td>8773.0</td>\n      <td>NaN</td>\n      <td>NaN</td>\n      <td>14.9250</td>\n      <td>14.891</td>\n      <td>14.994</td>\n      <td>15.0850</td>\n      <td>...</td>\n      <td>0.717137</td>\n      <td>-0.627137</td>\n      <td>0.26440</td>\n      <td>3</td>\n      <td>4</td>\n      <td>10</td>\n      <td>1986</td>\n      <td>296</td>\n      <td>23</td>\n      <td>43</td>\n    </tr>\n    <tr>\n      <th>5</th>\n      <td>5</td>\n      <td>1986-10-24</td>\n      <td>14.93</td>\n      <td>8773.0</td>\n      <td>NaN</td>\n      <td>NaN</td>\n      <td>14.9575</td>\n      <td>14.879</td>\n      <td>15.010</td>\n      <td>15.0780</td>\n      <td>...</td>\n      <td>0.627285</td>\n      <td>-0.572285</td>\n      <td>0.35240</td>\n      <td>4</td>\n      <td>4</td>\n      <td>10</td>\n      <td>1986</td>\n      <td>297</td>\n      <td>24</td>\n      <td>43</td>\n    </tr>\n    <tr>\n      <th>6</th>\n      <td>6</td>\n      <td>1986-10-27</td>\n      <td>14.40</td>\n      <td>8773.0</td>\n      <td>NaN</td>\n      <td>NaN</td>\n      <td>14.9560</td>\n      <td>14.821</td>\n      <td>14.856</td>\n      <td>15.0574</td>\n      <td>...</td>\n      <td>1.161463</td>\n      <td>-0.049463</td>\n      <td>0.40715</td>\n      <td>0</td>\n      <td>4</td>\n      <td>10</td>\n      <td>1986</td>\n      <td>300</td>\n      <td>27</td>\n      <td>44</td>\n    </tr>\n    <tr>\n      <th>7</th>\n      <td>7</td>\n      <td>1986-10-28</td>\n      <td>14.18</td>\n      <td>8773.0</td>\n      <td>NaN</td>\n      <td>NaN</td>\n      <td>14.9185</td>\n      <td>14.784</td>\n      <td>14.648</td>\n      <td>15.0244</td>\n      <td>...</td>\n      <td>1.436566</td>\n      <td>0.040434</td>\n      <td>0.42415</td>\n      <td>1</td>\n      <td>4</td>\n      <td>10</td>\n      <td>1986</td>\n      <td>301</td>\n      <td>28</td>\n      <td>44</td>\n    </tr>\n    <tr>\n      <th>8</th>\n      <td>8</td>\n      <td>1986-10-29</td>\n      <td>13.73</td>\n      <td>8773.0</td>\n      <td>NaN</td>\n      <td>NaN</td>\n      <td>14.8700</td>\n      <td>14.674</td>\n      <td>14.424</td>\n      <td>14.9874</td>\n      <td>...</td>\n      <td>2.014480</td>\n      <td>0.265520</td>\n      <td>0.43185</td>\n      <td>2</td>\n      <td>4</td>\n      <td>10</td>\n      <td>1986</td>\n      <td>302</td>\n      <td>29</td>\n      <td>44</td>\n    </tr>\n    <tr>\n      <th>9</th>\n      <td>9</td>\n      <td>1986-10-30</td>\n      <td>15.08</td>\n      <td>8773.0</td>\n      <td>NaN</td>\n      <td>NaN</td>\n      <td>14.8625</td>\n      <td>14.729</td>\n      <td>14.464</td>\n      <td>14.9894</td>\n      <td>...</td>\n      <td>0.646490</td>\n      <td>-1.081490</td>\n      <td>0.47485</td>\n      <td>3</td>\n      <td>4</td>\n      <td>10</td>\n      <td>1986</td>\n      <td>303</td>\n      <td>30</td>\n      <td>44</td>\n    </tr>\n    <tr>\n      <th>10</th>\n      <td>10</td>\n      <td>1986-10-31</td>\n      <td>15.25</td>\n      <td>8773.0</td>\n      <td>NaN</td>\n      <td>NaN</td>\n      <td>14.8560</td>\n      <td>14.769</td>\n      <td>14.528</td>\n      <td>14.9898</td>\n      <td>...</td>\n      <td>0.455431</td>\n      <td>-1.243431</td>\n      <td>0.51200</td>\n      <td>4</td>\n      <td>4</td>\n      <td>10</td>\n      <td>1986</td>\n      <td>304</td>\n      <td>31</td>\n      <td>44</td>\n    </tr>\n    <tr>\n      <th>11</th>\n      <td>11</td>\n      <td>1986-11-03</td>\n      <td>14.70</td>\n      <td>8773.0</td>\n      <td>NaN</td>\n      <td>NaN</td>\n      <td>14.8480</td>\n      <td>14.722</td>\n      <td>14.588</td>\n      <td>14.9792</td>\n      <td>...</td>\n      <td>1.000281</td>\n      <td>-0.704281</td>\n      <td>0.54865</td>\n      <td>0</td>\n      <td>4</td>\n      <td>11</td>\n      <td>1986</td>\n      <td>307</td>\n      <td>3</td>\n      <td>45</td>\n    </tr>\n    <tr>\n      <th>12</th>\n      <td>12</td>\n      <td>1986-11-04</td>\n      <td>15.05</td>\n      <td>8773.0</td>\n      <td>NaN</td>\n      <td>NaN</td>\n      <td>14.8590</td>\n      <td>14.705</td>\n      <td>14.762</td>\n      <td>14.9706</td>\n      <td>...</td>\n      <td>0.665969</td>\n      <td>-1.047969</td>\n      <td>0.59105</td>\n      <td>1</td>\n      <td>4</td>\n      <td>11</td>\n      <td>1986</td>\n      <td>308</td>\n      <td>4</td>\n      <td>45</td>\n    </tr>\n    <tr>\n      <th>13</th>\n      <td>13</td>\n      <td>1986-11-05</td>\n      <td>14.93</td>\n      <td>8773.0</td>\n      <td>NaN</td>\n      <td>NaN</td>\n      <td>14.8255</td>\n      <td>14.713</td>\n      <td>15.002</td>\n      <td>14.9596</td>\n      <td>...</td>\n      <td>0.679806</td>\n      <td>-0.888806</td>\n      <td>0.58595</td>\n      <td>2</td>\n      <td>4</td>\n      <td>11</td>\n      <td>1986</td>\n      <td>309</td>\n      <td>5</td>\n      <td>45</td>\n    </tr>\n    <tr>\n      <th>14</th>\n      <td>14</td>\n      <td>1986-11-06</td>\n      <td>15.08</td>\n      <td>8773.0</td>\n      <td>NaN</td>\n      <td>NaN</td>\n      <td>14.8120</td>\n      <td>14.733</td>\n      <td>15.002</td>\n      <td>14.9456</td>\n      <td>...</td>\n      <td>0.487042</td>\n      <td>-1.023042</td>\n      <td>0.59830</td>\n      <td>3</td>\n      <td>4</td>\n      <td>11</td>\n      <td>1986</td>\n      <td>310</td>\n      <td>6</td>\n      <td>45</td>\n    </tr>\n    <tr>\n      <th>15</th>\n      <td>15</td>\n      <td>1986-11-07</td>\n      <td>15.15</td>\n      <td>8321.0</td>\n      <td>NaN</td>\n      <td>NaN</td>\n      <td>14.8170</td>\n      <td>14.755</td>\n      <td>14.982</td>\n      <td>14.9320</td>\n      <td>...</td>\n      <td>0.429961</td>\n      <td>-1.095961</td>\n      <td>0.62720</td>\n      <td>4</td>\n      <td>4</td>\n      <td>11</td>\n      <td>1986</td>\n      <td>311</td>\n      <td>7</td>\n      <td>45</td>\n    </tr>\n    <tr>\n      <th>16</th>\n      <td>16</td>\n      <td>1986-11-10</td>\n      <td>15.30</td>\n      <td>8321.0</td>\n      <td>NaN</td>\n      <td>NaN</td>\n      <td>14.8330</td>\n      <td>14.845</td>\n      <td>15.102</td>\n      <td>14.9214</td>\n      <td>...</td>\n      <td>0.323286</td>\n      <td>-1.257286</td>\n      <td>0.66395</td>\n      <td>0</td>\n      <td>4</td>\n      <td>11</td>\n      <td>1986</td>\n      <td>314</td>\n      <td>10</td>\n      <td>46</td>\n    </tr>\n    <tr>\n      <th>17</th>\n      <td>17</td>\n      <td>1986-11-11</td>\n      <td>15.39</td>\n      <td>8321.0</td>\n      <td>NaN</td>\n      <td>NaN</td>\n      <td>14.8750</td>\n      <td>14.966</td>\n      <td>15.170</td>\n      <td>14.9106</td>\n      <td>...</td>\n      <td>0.300830</td>\n      <td>-1.330830</td>\n      <td>0.73335</td>\n      <td>1</td>\n      <td>4</td>\n      <td>11</td>\n      <td>1986</td>\n      <td>315</td>\n      <td>11</td>\n      <td>46</td>\n    </tr>\n    <tr>\n      <th>18</th>\n      <td>18</td>\n      <td>1986-11-12</td>\n      <td>15.33</td>\n      <td>8321.0</td>\n      <td>NaN</td>\n      <td>NaN</td>\n      <td>14.9000</td>\n      <td>15.126</td>\n      <td>15.250</td>\n      <td>14.8886</td>\n      <td>...</td>\n      <td>0.410301</td>\n      <td>-1.270301</td>\n      <td>0.77895</td>\n      <td>2</td>\n      <td>4</td>\n      <td>11</td>\n      <td>1986</td>\n      <td>316</td>\n      <td>12</td>\n      <td>46</td>\n    </tr>\n    <tr>\n      <th>19</th>\n      <td>19</td>\n      <td>1986-11-13</td>\n      <td>15.55</td>\n      <td>8321.0</td>\n      <td>NaN</td>\n      <td>NaN</td>\n      <td>14.9510</td>\n      <td>15.173</td>\n      <td>15.344</td>\n      <td>14.8790</td>\n      <td>...</td>\n      <td>0.270068</td>\n      <td>-1.468068</td>\n      <td>0.85025</td>\n      <td>3</td>\n      <td>4</td>\n      <td>11</td>\n      <td>1986</td>\n      <td>317</td>\n      <td>13</td>\n      <td>46</td>\n    </tr>\n    <tr>\n      <th>20</th>\n      <td>20</td>\n      <td>1986-11-14</td>\n      <td>15.68</td>\n      <td>8321.0</td>\n      <td>NaN</td>\n      <td>NaN</td>\n      <td>14.9925</td>\n      <td>15.216</td>\n      <td>15.450</td>\n      <td>14.8690</td>\n      <td>...</td>\n      <td>0.238655</td>\n      <td>-1.613655</td>\n      <td>0.91125</td>\n      <td>4</td>\n      <td>4</td>\n      <td>11</td>\n      <td>1986</td>\n      <td>318</td>\n      <td>14</td>\n      <td>46</td>\n    </tr>\n    <tr>\n      <th>21</th>\n      <td>21</td>\n      <td>1986-11-17</td>\n      <td>15.62</td>\n      <td>8321.0</td>\n      <td>NaN</td>\n      <td>NaN</td>\n      <td>15.0150</td>\n      <td>15.308</td>\n      <td>15.514</td>\n      <td>14.8688</td>\n      <td>...</td>\n      <td>0.360347</td>\n      <td>-1.570347</td>\n      <td>0.95040</td>\n      <td>0</td>\n      <td>4</td>\n      <td>11</td>\n      <td>1986</td>\n      <td>321</td>\n      <td>17</td>\n      <td>47</td>\n    </tr>\n    <tr>\n      <th>22</th>\n      <td>22</td>\n      <td>1986-11-18</td>\n      <td>15.65</td>\n      <td>8321.0</td>\n      <td>NaN</td>\n      <td>NaN</td>\n      <td>15.0365</td>\n      <td>15.368</td>\n      <td>15.566</td>\n      <td>14.8692</td>\n      <td>...</td>\n      <td>0.389491</td>\n      <td>-1.616491</td>\n      <td>0.98075</td>\n      <td>1</td>\n      <td>4</td>\n      <td>11</td>\n      <td>1986</td>\n      <td>322</td>\n      <td>18</td>\n      <td>47</td>\n    </tr>\n    <tr>\n      <th>23</th>\n      <td>23</td>\n      <td>1986-11-19</td>\n      <td>15.52</td>\n      <td>8321.0</td>\n      <td>NaN</td>\n      <td>NaN</td>\n      <td>15.0700</td>\n      <td>15.427</td>\n      <td>15.604</td>\n      <td>14.8796</td>\n      <td>...</td>\n      <td>0.571351</td>\n      <td>-1.471351</td>\n      <td>1.01455</td>\n      <td>2</td>\n      <td>4</td>\n      <td>11</td>\n      <td>1986</td>\n      <td>323</td>\n      <td>19</td>\n      <td>47</td>\n    </tr>\n    <tr>\n      <th>24</th>\n      <td>24</td>\n      <td>1986-11-20</td>\n      <td>15.10</td>\n      <td>8321.0</td>\n      <td>NaN</td>\n      <td>NaN</td>\n      <td>15.0810</td>\n      <td>15.429</td>\n      <td>15.514</td>\n      <td>14.8836</td>\n      <td>...</td>\n      <td>0.998466</td>\n      <td>-1.036466</td>\n      <td>1.03145</td>\n      <td>3</td>\n      <td>4</td>\n      <td>11</td>\n      <td>1986</td>\n      <td>324</td>\n      <td>20</td>\n      <td>47</td>\n    </tr>\n    <tr>\n      <th>25</th>\n      <td>25</td>\n      <td>1986-11-21</td>\n      <td>15.13</td>\n      <td>8321.0</td>\n      <td>NaN</td>\n      <td>NaN</td>\n      <td>15.0910</td>\n      <td>15.427</td>\n      <td>15.404</td>\n      <td>14.8852</td>\n      <td>...</td>\n      <td>0.976146</td>\n      <td>-1.054146</td>\n      <td>1.04880</td>\n      <td>4</td>\n      <td>4</td>\n      <td>11</td>\n      <td>1986</td>\n      <td>325</td>\n      <td>21</td>\n      <td>47</td>\n    </tr>\n    <tr>\n      <th>26</th>\n      <td>26</td>\n      <td>1986-11-24</td>\n      <td>14.98</td>\n      <td>8321.0</td>\n      <td>NaN</td>\n      <td>NaN</td>\n      <td>15.1200</td>\n      <td>15.395</td>\n      <td>15.276</td>\n      <td>14.8836</td>\n      <td>...</td>\n      <td>1.103874</td>\n      <td>-0.823874</td>\n      <td>1.09140</td>\n      <td>0</td>\n      <td>4</td>\n      <td>11</td>\n      <td>1986</td>\n      <td>328</td>\n      <td>24</td>\n      <td>48</td>\n    </tr>\n    <tr>\n      <th>27</th>\n      <td>27</td>\n      <td>1986-11-25</td>\n      <td>15.05</td>\n      <td>8321.0</td>\n      <td>NaN</td>\n      <td>NaN</td>\n      <td>15.1635</td>\n      <td>15.361</td>\n      <td>15.156</td>\n      <td>14.8984</td>\n      <td>...</td>\n      <td>0.971460</td>\n      <td>-0.744460</td>\n      <td>1.14355</td>\n      <td>1</td>\n      <td>4</td>\n      <td>11</td>\n      <td>1986</td>\n      <td>329</td>\n      <td>25</td>\n      <td>48</td>\n    </tr>\n    <tr>\n      <th>28</th>\n      <td>28</td>\n      <td>1986-11-26</td>\n      <td>15.00</td>\n      <td>8321.0</td>\n      <td>NaN</td>\n      <td>NaN</td>\n      <td>15.2270</td>\n      <td>15.328</td>\n      <td>15.052</td>\n      <td>14.9224</td>\n      <td>...</td>\n      <td>0.767491</td>\n      <td>-0.313491</td>\n      <td>1.21345</td>\n      <td>2</td>\n      <td>4</td>\n      <td>11</td>\n      <td>1986</td>\n      <td>330</td>\n      <td>26</td>\n      <td>48</td>\n    </tr>\n    <tr>\n      <th>29</th>\n      <td>29</td>\n      <td>1986-11-28</td>\n      <td>15.00</td>\n      <td>8321.0</td>\n      <td>NaN</td>\n      <td>NaN</td>\n      <td>15.2230</td>\n      <td>15.273</td>\n      <td>15.032</td>\n      <td>14.9418</td>\n      <td>...</td>\n      <td>0.769225</td>\n      <td>-0.323225</td>\n      <td>1.21315</td>\n      <td>4</td>\n      <td>4</td>\n      <td>11</td>\n      <td>1986</td>\n      <td>332</td>\n      <td>28</td>\n      <td>48</td>\n    </tr>\n    <tr>\n      <th>...</th>\n      <td>...</td>\n      <td>...</td>\n      <td>...</td>\n      <td>...</td>\n      <td>...</td>\n      <td>...</td>\n      <td>...</td>\n      <td>...</td>\n      <td>...</td>\n      <td>...</td>\n      <td>...</td>\n      <td>...</td>\n      <td>...</td>\n      <td>...</td>\n      <td>...</td>\n      <td>...</td>\n      <td>...</td>\n      <td>...</td>\n      <td>...</td>\n      <td>...</td>\n      <td>...</td>\n    </tr>\n    <tr>\n      <th>2569</th>\n      <td>2569</td>\n      <td>1996-11-21</td>\n      <td>23.90</td>\n      <td>6531.0</td>\n      <td>NaN</td>\n      <td>22.90</td>\n      <td>23.7225</td>\n      <td>23.910</td>\n      <td>24.030</td>\n      <td>24.2650</td>\n      <td>...</td>\n      <td>1.211735</td>\n      <td>-1.566735</td>\n      <td>1.49030</td>\n      <td>3</td>\n      <td>4</td>\n      <td>11</td>\n      <td>1996</td>\n      <td>326</td>\n      <td>21</td>\n      <td>47</td>\n    </tr>\n    <tr>\n      <th>2570</th>\n      <td>2570</td>\n      <td>1996-11-22</td>\n      <td>24.15</td>\n      <td>6512.0</td>\n      <td>NaN</td>\n      <td>23.86</td>\n      <td>23.6900</td>\n      <td>23.965</td>\n      <td>24.030</td>\n      <td>24.2580</td>\n      <td>...</td>\n      <td>0.851327</td>\n      <td>-1.771327</td>\n      <td>1.42620</td>\n      <td>4</td>\n      <td>4</td>\n      <td>11</td>\n      <td>1996</td>\n      <td>327</td>\n      <td>22</td>\n      <td>47</td>\n    </tr>\n    <tr>\n      <th>2571</th>\n      <td>2571</td>\n      <td>1996-11-25</td>\n      <td>25.75</td>\n      <td>6512.0</td>\n      <td>NaN</td>\n      <td>23.22</td>\n      <td>23.7400</td>\n      <td>24.205</td>\n      <td>24.410</td>\n      <td>24.3070</td>\n      <td>...</td>\n      <td>-0.471853</td>\n      <td>-3.548147</td>\n      <td>1.43750</td>\n      <td>0</td>\n      <td>4</td>\n      <td>11</td>\n      <td>1996</td>\n      <td>330</td>\n      <td>25</td>\n      <td>48</td>\n    </tr>\n    <tr>\n      <th>2572</th>\n      <td>2572</td>\n      <td>1996-11-26</td>\n      <td>23.70</td>\n      <td>6512.0</td>\n      <td>NaN</td>\n      <td>22.78</td>\n      <td>23.7175</td>\n      <td>24.235</td>\n      <td>24.250</td>\n      <td>24.3130</td>\n      <td>...</td>\n      <td>1.543511</td>\n      <td>-1.508511</td>\n      <td>1.39130</td>\n      <td>1</td>\n      <td>4</td>\n      <td>11</td>\n      <td>1996</td>\n      <td>331</td>\n      <td>26</td>\n      <td>48</td>\n    </tr>\n    <tr>\n      <th>2573</th>\n      <td>2573</td>\n      <td>1996-11-27</td>\n      <td>23.70</td>\n      <td>6512.0</td>\n      <td>NaN</td>\n      <td>23.07</td>\n      <td>23.6825</td>\n      <td>24.180</td>\n      <td>24.240</td>\n      <td>24.3100</td>\n      <td>...</td>\n      <td>1.474329</td>\n      <td>-1.509329</td>\n      <td>1.33210</td>\n      <td>2</td>\n      <td>4</td>\n      <td>11</td>\n      <td>1996</td>\n      <td>332</td>\n      <td>27</td>\n      <td>48</td>\n    </tr>\n    <tr>\n      <th>2574</th>\n      <td>2574</td>\n      <td>1996-11-29</td>\n      <td>23.70</td>\n      <td>6538.0</td>\n      <td>NaN</td>\n      <td>23.17</td>\n      <td>23.7050</td>\n      <td>24.115</td>\n      <td>24.200</td>\n      <td>24.3150</td>\n      <td>...</td>\n      <td>1.482872</td>\n      <td>-1.472872</td>\n      <td>1.33120</td>\n      <td>4</td>\n      <td>4</td>\n      <td>11</td>\n      <td>1996</td>\n      <td>334</td>\n      <td>29</td>\n      <td>48</td>\n    </tr>\n    <tr>\n      <th>2575</th>\n      <td>2575</td>\n      <td>1996-12-02</td>\n      <td>24.70</td>\n      <td>6538.0</td>\n      <td>NaN</td>\n      <td>23.50</td>\n      <td>23.7900</td>\n      <td>24.170</td>\n      <td>24.310</td>\n      <td>24.3370</td>\n      <td>...</td>\n      <td>0.592489</td>\n      <td>-2.412489</td>\n      <td>1.38850</td>\n      <td>0</td>\n      <td>4</td>\n      <td>12</td>\n      <td>1996</td>\n      <td>337</td>\n      <td>2</td>\n      <td>49</td>\n    </tr>\n    <tr>\n      <th>2576</th>\n      <td>2576</td>\n      <td>1996-12-03</td>\n      <td>24.80</td>\n      <td>6538.0</td>\n      <td>NaN</td>\n      <td>24.12</td>\n      <td>23.8900</td>\n      <td>24.265</td>\n      <td>24.120</td>\n      <td>24.3564</td>\n      <td>...</td>\n      <td>0.581238</td>\n      <td>-2.401238</td>\n      <td>1.46985</td>\n      <td>1</td>\n      <td>4</td>\n      <td>12</td>\n      <td>1996</td>\n      <td>338</td>\n      <td>3</td>\n      <td>49</td>\n    </tr>\n    <tr>\n      <th>2577</th>\n      <td>2577</td>\n      <td>1996-12-04</td>\n      <td>25.00</td>\n      <td>6538.0</td>\n      <td>NaN</td>\n      <td>24.21</td>\n      <td>24.0075</td>\n      <td>24.315</td>\n      <td>24.380</td>\n      <td>24.3654</td>\n      <td>...</td>\n      <td>0.457101</td>\n      <td>-2.442101</td>\n      <td>1.57050</td>\n      <td>2</td>\n      <td>4</td>\n      <td>12</td>\n      <td>1996</td>\n      <td>339</td>\n      <td>4</td>\n      <td>49</td>\n    </tr>\n    <tr>\n      <th>2578</th>\n      <td>2578</td>\n      <td>1996-12-05</td>\n      <td>25.60</td>\n      <td>6538.0</td>\n      <td>NaN</td>\n      <td>24.49</td>\n      <td>24.1500</td>\n      <td>24.500</td>\n      <td>24.760</td>\n      <td>24.3854</td>\n      <td>...</td>\n      <td>0.038906</td>\n      <td>-2.938906</td>\n      <td>1.69570</td>\n      <td>3</td>\n      <td>4</td>\n      <td>12</td>\n      <td>1996</td>\n      <td>340</td>\n      <td>5</td>\n      <td>49</td>\n    </tr>\n    <tr>\n      <th>2579</th>\n      <td>2579</td>\n      <td>1996-12-06</td>\n      <td>25.60</td>\n      <td>6534.0</td>\n      <td>NaN</td>\n      <td>24.56</td>\n      <td>24.2900</td>\n      <td>24.670</td>\n      <td>25.140</td>\n      <td>24.4164</td>\n      <td>...</td>\n      <td>0.170967</td>\n      <td>-2.790967</td>\n      <td>1.81255</td>\n      <td>4</td>\n      <td>4</td>\n      <td>12</td>\n      <td>1996</td>\n      <td>341</td>\n      <td>6</td>\n      <td>49</td>\n    </tr>\n    <tr>\n      <th>2580</th>\n      <td>2580</td>\n      <td>1996-12-09</td>\n      <td>25.15</td>\n      <td>6534.0</td>\n      <td>NaN</td>\n      <td>24.18</td>\n      <td>24.3675</td>\n      <td>24.770</td>\n      <td>25.230</td>\n      <td>24.4274</td>\n      <td>...</td>\n      <td>0.708623</td>\n      <td>-2.273623</td>\n      <td>1.86155</td>\n      <td>0</td>\n      <td>4</td>\n      <td>12</td>\n      <td>1996</td>\n      <td>344</td>\n      <td>9</td>\n      <td>50</td>\n    </tr>\n    <tr>\n      <th>2581</th>\n      <td>2581</td>\n      <td>1996-12-10</td>\n      <td>24.25</td>\n      <td>6534.0</td>\n      <td>NaN</td>\n      <td>23.74</td>\n      <td>24.4125</td>\n      <td>24.620</td>\n      <td>25.120</td>\n      <td>24.4284</td>\n      <td>...</td>\n      <td>1.576667</td>\n      <td>-1.251667</td>\n      <td>1.88355</td>\n      <td>1</td>\n      <td>4</td>\n      <td>12</td>\n      <td>1996</td>\n      <td>345</td>\n      <td>10</td>\n      <td>50</td>\n    </tr>\n    <tr>\n      <th>2582</th>\n      <td>2582</td>\n      <td>1996-12-11</td>\n      <td>23.40</td>\n      <td>6534.0</td>\n      <td>NaN</td>\n      <td>22.95</td>\n      <td>24.4125</td>\n      <td>24.590</td>\n      <td>24.800</td>\n      <td>24.4094</td>\n      <td>...</td>\n      <td>2.426667</td>\n      <td>-0.401667</td>\n      <td>1.86305</td>\n      <td>2</td>\n      <td>4</td>\n      <td>12</td>\n      <td>1996</td>\n      <td>346</td>\n      <td>11</td>\n      <td>50</td>\n    </tr>\n    <tr>\n      <th>2583</th>\n      <td>2583</td>\n      <td>1996-12-12</td>\n      <td>23.75</td>\n      <td>6534.0</td>\n      <td>NaN</td>\n      <td>22.65</td>\n      <td>24.3875</td>\n      <td>24.595</td>\n      <td>24.430</td>\n      <td>24.4034</td>\n      <td>...</td>\n      <td>2.081134</td>\n      <td>-0.806134</td>\n      <td>1.81725</td>\n      <td>3</td>\n      <td>4</td>\n      <td>12</td>\n      <td>1996</td>\n      <td>347</td>\n      <td>12</td>\n      <td>50</td>\n    </tr>\n    <tr>\n      <th>2584</th>\n      <td>2584</td>\n      <td>1996-12-13</td>\n      <td>24.45</td>\n      <td>6518.0</td>\n      <td>NaN</td>\n      <td>22.83</td>\n      <td>24.3925</td>\n      <td>24.670</td>\n      <td>24.200</td>\n      <td>24.3954</td>\n      <td>...</td>\n      <td>1.386280</td>\n      <td>-1.501280</td>\n      <td>1.79725</td>\n      <td>4</td>\n      <td>4</td>\n      <td>12</td>\n      <td>1996</td>\n      <td>348</td>\n      <td>13</td>\n      <td>50</td>\n    </tr>\n    <tr>\n      <th>2585</th>\n      <td>2585</td>\n      <td>1996-12-16</td>\n      <td>25.70</td>\n      <td>6518.0</td>\n      <td>NaN</td>\n      <td>23.98</td>\n      <td>24.4700</td>\n      <td>24.770</td>\n      <td>24.310</td>\n      <td>24.4144</td>\n      <td>...</td>\n      <td>0.321366</td>\n      <td>-2.781366</td>\n      <td>1.84245</td>\n      <td>0</td>\n      <td>4</td>\n      <td>12</td>\n      <td>1996</td>\n      <td>351</td>\n      <td>16</td>\n      <td>51</td>\n    </tr>\n    <tr>\n      <th>2586</th>\n      <td>2586</td>\n      <td>1996-12-17</td>\n      <td>25.70</td>\n      <td>6518.0</td>\n      <td>NaN</td>\n      <td>24.05</td>\n      <td>24.5625</td>\n      <td>24.860</td>\n      <td>24.600</td>\n      <td>24.4234</td>\n      <td>...</td>\n      <td>0.477520</td>\n      <td>-2.752520</td>\n      <td>1.90470</td>\n      <td>1</td>\n      <td>4</td>\n      <td>12</td>\n      <td>1996</td>\n      <td>352</td>\n      <td>17</td>\n      <td>51</td>\n    </tr>\n    <tr>\n      <th>2587</th>\n      <td>2587</td>\n      <td>1996-12-18</td>\n      <td>26.05</td>\n      <td>6518.0</td>\n      <td>NaN</td>\n      <td>23.69</td>\n      <td>24.6400</td>\n      <td>24.965</td>\n      <td>25.130</td>\n      <td>24.4354</td>\n      <td>...</td>\n      <td>0.335852</td>\n      <td>-3.155852</td>\n      <td>1.95275</td>\n      <td>2</td>\n      <td>4</td>\n      <td>12</td>\n      <td>1996</td>\n      <td>353</td>\n      <td>18</td>\n      <td>51</td>\n    </tr>\n    <tr>\n      <th>2588</th>\n      <td>2588</td>\n      <td>1996-12-19</td>\n      <td>26.55</td>\n      <td>6518.0</td>\n      <td>NaN</td>\n      <td>24.18</td>\n      <td>24.7800</td>\n      <td>25.060</td>\n      <td>25.690</td>\n      <td>24.4664</td>\n      <td>...</td>\n      <td>0.118581</td>\n      <td>-3.658581</td>\n      <td>2.05935</td>\n      <td>3</td>\n      <td>4</td>\n      <td>12</td>\n      <td>1996</td>\n      <td>354</td>\n      <td>19</td>\n      <td>51</td>\n    </tr>\n    <tr>\n      <th>2589</th>\n      <td>2589</td>\n      <td>1996-12-20</td>\n      <td>26.10</td>\n      <td>6523.0</td>\n      <td>NaN</td>\n      <td>23.96</td>\n      <td>24.8900</td>\n      <td>25.110</td>\n      <td>26.020</td>\n      <td>24.5024</td>\n      <td>...</td>\n      <td>0.718621</td>\n      <td>-3.138621</td>\n      <td>2.13715</td>\n      <td>4</td>\n      <td>4</td>\n      <td>12</td>\n      <td>1996</td>\n      <td>355</td>\n      <td>20</td>\n      <td>51</td>\n    </tr>\n    <tr>\n      <th>2590</th>\n      <td>2590</td>\n      <td>1996-12-23</td>\n      <td>26.40</td>\n      <td>6523.0</td>\n      <td>NaN</td>\n      <td>23.51</td>\n      <td>25.0025</td>\n      <td>25.235</td>\n      <td>26.160</td>\n      <td>24.5374</td>\n      <td>...</td>\n      <td>0.610242</td>\n      <td>-3.405242</td>\n      <td>2.21725</td>\n      <td>0</td>\n      <td>4</td>\n      <td>12</td>\n      <td>1996</td>\n      <td>358</td>\n      <td>23</td>\n      <td>52</td>\n    </tr>\n    <tr>\n      <th>2591</th>\n      <td>2591</td>\n      <td>1996-12-24</td>\n      <td>25.05</td>\n      <td>6523.0</td>\n      <td>NaN</td>\n      <td>23.66</td>\n      <td>24.9675</td>\n      <td>25.315</td>\n      <td>26.030</td>\n      <td>24.5284</td>\n      <td>...</td>\n      <td>1.894546</td>\n      <td>-2.059546</td>\n      <td>2.15910</td>\n      <td>1</td>\n      <td>4</td>\n      <td>12</td>\n      <td>1996</td>\n      <td>359</td>\n      <td>24</td>\n      <td>52</td>\n    </tr>\n    <tr>\n      <th>2592</th>\n      <td>2592</td>\n      <td>1996-12-26</td>\n      <td>25.10</td>\n      <td>6523.0</td>\n      <td>NaN</td>\n      <td>23.66</td>\n      <td>25.0375</td>\n      <td>25.485</td>\n      <td>25.840</td>\n      <td>24.5214</td>\n      <td>...</td>\n      <td>1.822587</td>\n      <td>-1.947587</td>\n      <td>2.20605</td>\n      <td>3</td>\n      <td>4</td>\n      <td>12</td>\n      <td>1996</td>\n      <td>361</td>\n      <td>26</td>\n      <td>52</td>\n    </tr>\n    <tr>\n      <th>2593</th>\n      <td>2593</td>\n      <td>1996-12-27</td>\n      <td>25.20</td>\n      <td>6506.0</td>\n      <td>NaN</td>\n      <td>23.55</td>\n      <td>25.1125</td>\n      <td>25.630</td>\n      <td>25.570</td>\n      <td>24.5234</td>\n      <td>...</td>\n      <td>1.689806</td>\n      <td>-1.864806</td>\n      <td>2.26095</td>\n      <td>4</td>\n      <td>4</td>\n      <td>12</td>\n      <td>1996</td>\n      <td>362</td>\n      <td>27</td>\n      <td>52</td>\n    </tr>\n    <tr>\n      <th>2594</th>\n      <td>2594</td>\n      <td>1996-12-30</td>\n      <td>25.35</td>\n      <td>6506.0</td>\n      <td>NaN</td>\n      <td>23.95</td>\n      <td>25.1950</td>\n      <td>25.720</td>\n      <td>25.420</td>\n      <td>24.5224</td>\n      <td>...</td>\n      <td>1.494848</td>\n      <td>-1.804848</td>\n      <td>2.32665</td>\n      <td>0</td>\n      <td>4</td>\n      <td>12</td>\n      <td>1996</td>\n      <td>365</td>\n      <td>30</td>\n      <td>1</td>\n    </tr>\n    <tr>\n      <th>2595</th>\n      <td>2595</td>\n      <td>1996-12-31</td>\n      <td>25.90</td>\n      <td>6506.0</td>\n      <td>NaN</td>\n      <td>23.90</td>\n      <td>25.2550</td>\n      <td>25.740</td>\n      <td>25.320</td>\n      <td>24.5244</td>\n      <td>...</td>\n      <td>1.016293</td>\n      <td>-2.306293</td>\n      <td>2.37330</td>\n      <td>1</td>\n      <td>4</td>\n      <td>12</td>\n      <td>1996</td>\n      <td>366</td>\n      <td>31</td>\n      <td>1</td>\n    </tr>\n    <tr>\n      <th>2596</th>\n      <td>2596</td>\n      <td>1997-01-02</td>\n      <td>25.55</td>\n      <td>6506.0</td>\n      <td>NaN</td>\n      <td>24.45</td>\n      <td>25.2925</td>\n      <td>25.725</td>\n      <td>25.420</td>\n      <td>24.5184</td>\n      <td>...</td>\n      <td>1.394381</td>\n      <td>-1.909381</td>\n      <td>2.40585</td>\n      <td>3</td>\n      <td>1</td>\n      <td>1</td>\n      <td>1997</td>\n      <td>2</td>\n      <td>2</td>\n      <td>1</td>\n    </tr>\n    <tr>\n      <th>2597</th>\n      <td>2597</td>\n      <td>1997-01-03</td>\n      <td>25.55</td>\n      <td>6454.0</td>\n      <td>NaN</td>\n      <td>24.19</td>\n      <td>25.3200</td>\n      <td>25.675</td>\n      <td>25.510</td>\n      <td>24.5136</td>\n      <td>...</td>\n      <td>1.419689</td>\n      <td>-1.879689</td>\n      <td>2.41930</td>\n      <td>4</td>\n      <td>1</td>\n      <td>1</td>\n      <td>1997</td>\n      <td>3</td>\n      <td>3</td>\n      <td>1</td>\n    </tr>\n    <tr>\n      <th>2598</th>\n      <td>2598</td>\n      <td>1997-01-06</td>\n      <td>26.25</td>\n      <td>6454.0</td>\n      <td>NaN</td>\n      <td>24.76</td>\n      <td>25.3525</td>\n      <td>25.645</td>\n      <td>25.720</td>\n      <td>24.5430</td>\n      <td>...</td>\n      <td>0.800324</td>\n      <td>-2.595324</td>\n      <td>2.43275</td>\n      <td>0</td>\n      <td>1</td>\n      <td>1</td>\n      <td>1997</td>\n      <td>6</td>\n      <td>6</td>\n      <td>2</td>\n    </tr>\n  </tbody>\n</table>\n<p>2599 rows × 30 columns</p>\n</div>",
      "text/plain": "      Unnamed: 0        Date  Prices  OilProduction  NatGasPrices  \\\n0              0  1986-10-17   14.85         8773.0           NaN   \n1              1  1986-10-20   15.17         8773.0           NaN   \n2              2  1986-10-21   15.22         8773.0           NaN   \n3              3  1986-10-22   14.85         8773.0           NaN   \n4              4  1986-10-23   14.88         8773.0           NaN   \n...          ...         ...     ...            ...           ...   \n2594        2594  1996-12-30   25.35         6506.0           NaN   \n2595        2595  1996-12-31   25.90         6506.0           NaN   \n2596        2596  1997-01-02   25.55         6506.0           NaN   \n2597        2597  1997-01-03   25.55         6454.0           NaN   \n2598        2598  1997-01-06   26.25         6454.0           NaN   \n\n      BrentPrices   20dSMA  10dSMA   5dSMA   50dSMA  ...  distFromTopBoll  \\\n0             NaN  14.7820  14.943  14.748  15.0912  ...         0.764336   \n1             NaN  14.8170  14.974  14.786  15.0910  ...         0.482958   \n2             NaN  14.8810  15.013  14.920  15.0988  ...         0.405210   \n3             NaN  14.9085  14.938  14.924  15.0974  ...         0.751177   \n4             NaN  14.9250  14.891  14.994  15.0850  ...         0.717137   \n...           ...      ...     ...     ...      ...  ...              ...   \n2594        23.95  25.1950  25.720  25.420  24.5224  ...         1.494848   \n2595        23.90  25.2550  25.740  25.320  24.5244  ...         1.016293   \n2596        24.45  25.2925  25.725  25.420  24.5184  ...         1.394381   \n2597        24.19  25.3200  25.675  25.510  24.5136  ...         1.419689   \n2598        24.76  25.3525  25.645  25.720  24.5430  ...         0.800324   \n\n      distFromLowBoll  20d200dDist  dayofweek  quarter  month  year  \\\n0           -0.900336      0.09925          4        4     10  1986   \n1           -1.188958      0.01010          0        4     10  1986   \n2           -1.083210      0.11045          1        4     10  1986   \n3           -0.634177      0.19295          2        4     10  1986   \n4           -0.627137      0.26440          3        4     10  1986   \n...               ...          ...        ...      ...    ...   ...   \n2594        -1.804848      2.32665          0        4     12  1996   \n2595        -2.306293      2.37330          1        4     12  1996   \n2596        -1.909381      2.40585          3        1      1  1997   \n2597        -1.879689      2.41930          4        1      1  1997   \n2598        -2.595324      2.43275          0        1      1  1997   \n\n      dayofyear  dayofmonth  weekofyear  \n0           290          17          42  \n1           293          20          43  \n2           294          21          43  \n3           295          22          43  \n4           296          23          43  \n...         ...         ...         ...  \n2594        365          30           1  \n2595        366          31           1  \n2596          2           2           1  \n2597          3           3           1  \n2598          6           6           2  \n\n[2599 rows x 30 columns]"
     },
     "execution_count": 449,
     "metadata": {},
     "output_type": "execute_result"
    }
   ],
   "source": [
    "df.tail()\n",
    "df.describe()\n",
    "df[df.isna().any(axis=1)]"
   ]
  },
  {
   "cell_type": "code",
   "execution_count": 450,
   "metadata": {},
   "outputs": [],
   "source": [
    "df = df[df[\"Date\"] > trainDataDate]\n",
    "df = df.reset_index().drop([\"index\"], axis = 1)\n",
    "# df_train = df[df[\"Date\"] <= testSplitDate].copy()\n",
    "# df_test = df[df[\"Date\"] > testSplitDate].copy()\n",
    "df_train, df_test = train_test_split(df, train_size=0.8, test_size=0.2, shuffle=False)\n",
    "# df_train, df_test = train_test_split(df, train_size=0.9, test_size=0.1, shuffle=False)\n",
    "\n",
    "# training_set = df.set_index('Date')\n",
    "# training_set = training_set[features]\n",
    "feat = ['Prices']#,'Momentum_14', 'MACD_12_26', 'RSI_14','20d200dDist','dayofmonth','weekofyear']\n",
    "nonShiftFeat = ['Prices','dayofmonth','weekofyear']\n",
    "#['OilProduction', '20dSMA', 'Momentum_14', 'MACD_12_26', 'MACDdiff_12_26', 'ROC_14', 'RSI_14', 'bollAmplitude', 'distFromTopBoll', 'distFromLowBoll', '20d200dDist','dayofyear','dayofmonth','weekofyear']\n",
    "\n",
    "\n",
    "# X_train, y_train = create_features(df_train,features,label='Prices', shift =1)\n",
    "# X_test, y_test = create_features(df_test,label='Prices', shift =1)\n",
    "# X_train = X_train.iloc[1:]\n",
    "# X_test = X_test.iloc[1:]\n",
    "# y_train = y_train.iloc[1:]\n",
    "# y_test = y_test.iloc[1:]"
   ]
  },
  {
   "cell_type": "code",
   "execution_count": 451,
   "metadata": {},
   "outputs": [
    {
     "data": {
      "text/html": "<div>\n<style scoped>\n    .dataframe tbody tr th:only-of-type {\n        vertical-align: middle;\n    }\n\n    .dataframe tbody tr th {\n        vertical-align: top;\n    }\n\n    .dataframe thead th {\n        text-align: right;\n    }\n</style>\n<table border=\"1\" class=\"dataframe\">\n  <thead>\n    <tr style=\"text-align: right;\">\n      <th></th>\n      <th>Unnamed: 0</th>\n      <th>Date</th>\n      <th>Prices</th>\n      <th>OilProduction</th>\n      <th>NatGasPrices</th>\n      <th>BrentPrices</th>\n      <th>20dSMA</th>\n      <th>10dSMA</th>\n      <th>5dSMA</th>\n      <th>50dSMA</th>\n      <th>...</th>\n      <th>distFromTopBoll</th>\n      <th>distFromLowBoll</th>\n      <th>20d200dDist</th>\n      <th>dayofweek</th>\n      <th>quarter</th>\n      <th>month</th>\n      <th>year</th>\n      <th>dayofyear</th>\n      <th>dayofmonth</th>\n      <th>weekofyear</th>\n    </tr>\n  </thead>\n  <tbody>\n    <tr>\n      <th>1</th>\n      <td>7621</td>\n      <td>2017-01-04</td>\n      <td>53.26</td>\n      <td>8770.0</td>\n      <td>3.42</td>\n      <td>54.57</td>\n      <td>52.1250</td>\n      <td>52.765</td>\n      <td>53.436</td>\n      <td>48.9904</td>\n      <td>...</td>\n      <td>1.104948</td>\n      <td>-3.374948</td>\n      <td>5.88610</td>\n      <td>2</td>\n      <td>1</td>\n      <td>1</td>\n      <td>2017</td>\n      <td>4</td>\n      <td>4</td>\n      <td>1</td>\n    </tr>\n    <tr>\n      <th>2</th>\n      <td>7622</td>\n      <td>2017-01-05</td>\n      <td>53.77</td>\n      <td>8770.0</td>\n      <td>3.42</td>\n      <td>54.99</td>\n      <td>52.2660</td>\n      <td>52.920</td>\n      <td>53.388</td>\n      <td>49.0622</td>\n      <td>...</td>\n      <td>0.779132</td>\n      <td>-3.787132</td>\n      <td>5.96550</td>\n      <td>3</td>\n      <td>1</td>\n      <td>1</td>\n      <td>2017</td>\n      <td>5</td>\n      <td>5</td>\n      <td>1</td>\n    </tr>\n    <tr>\n      <th>3</th>\n      <td>7623</td>\n      <td>2017-01-06</td>\n      <td>53.98</td>\n      <td>8946.0</td>\n      <td>3.38</td>\n      <td>55.90</td>\n      <td>52.4725</td>\n      <td>53.174</td>\n      <td>53.424</td>\n      <td>49.1528</td>\n      <td>...</td>\n      <td>0.595539</td>\n      <td>-3.610539</td>\n      <td>6.09350</td>\n      <td>4</td>\n      <td>1</td>\n      <td>1</td>\n      <td>2017</td>\n      <td>6</td>\n      <td>6</td>\n      <td>1</td>\n    </tr>\n    <tr>\n      <th>4</th>\n      <td>7624</td>\n      <td>2017-01-09</td>\n      <td>51.95</td>\n      <td>8946.0</td>\n      <td>3.14</td>\n      <td>54.39</td>\n      <td>52.5280</td>\n      <td>53.171</td>\n      <td>53.064</td>\n      <td>49.2168</td>\n      <td>...</td>\n      <td>2.554415</td>\n      <td>-1.398415</td>\n      <td>6.07995</td>\n      <td>0</td>\n      <td>1</td>\n      <td>1</td>\n      <td>2017</td>\n      <td>9</td>\n      <td>9</td>\n      <td>2</td>\n    </tr>\n    <tr>\n      <th>5</th>\n      <td>7625</td>\n      <td>2017-01-10</td>\n      <td>50.82</td>\n      <td>8946.0</td>\n      <td>3.21</td>\n      <td>53.20</td>\n      <td>52.4935</td>\n      <td>53.052</td>\n      <td>52.756</td>\n      <td>49.2390</td>\n      <td>...</td>\n      <td>3.746467</td>\n      <td>-0.399467</td>\n      <td>5.98130</td>\n      <td>1</td>\n      <td>1</td>\n      <td>1</td>\n      <td>2017</td>\n      <td>10</td>\n      <td>10</td>\n      <td>2</td>\n    </tr>\n    <tr>\n      <th>6</th>\n      <td>7626</td>\n      <td>2017-01-11</td>\n      <td>52.19</td>\n      <td>8946.0</td>\n      <td>3.27</td>\n      <td>53.61</td>\n      <td>52.4660</td>\n      <td>52.989</td>\n      <td>52.542</td>\n      <td>49.3084</td>\n      <td>...</td>\n      <td>2.349790</td>\n      <td>-1.797790</td>\n      <td>5.87740</td>\n      <td>2</td>\n      <td>1</td>\n      <td>1</td>\n      <td>2017</td>\n      <td>11</td>\n      <td>11</td>\n      <td>2</td>\n    </tr>\n    <tr>\n      <th>7</th>\n      <td>7627</td>\n      <td>2017-01-12</td>\n      <td>53.01</td>\n      <td>8946.0</td>\n      <td>3.36</td>\n      <td>54.51</td>\n      <td>52.4670</td>\n      <td>52.889</td>\n      <td>52.390</td>\n      <td>49.4320</td>\n      <td>...</td>\n      <td>1.531873</td>\n      <td>-2.617873</td>\n      <td>5.79790</td>\n      <td>3</td>\n      <td>1</td>\n      <td>1</td>\n      <td>2017</td>\n      <td>12</td>\n      <td>12</td>\n      <td>2</td>\n    </tr>\n    <tr>\n      <th>8</th>\n      <td>7628</td>\n      <td>2017-01-13</td>\n      <td>52.36</td>\n      <td>8944.0</td>\n      <td>3.36</td>\n      <td>54.37</td>\n      <td>52.5345</td>\n      <td>52.745</td>\n      <td>52.066</td>\n      <td>49.5460</td>\n      <td>...</td>\n      <td>2.134451</td>\n      <td>-1.785451</td>\n      <td>5.78830</td>\n      <td>4</td>\n      <td>1</td>\n      <td>1</td>\n      <td>2017</td>\n      <td>13</td>\n      <td>13</td>\n      <td>2</td>\n    </tr>\n    <tr>\n      <th>9</th>\n      <td>7629</td>\n      <td>2017-01-17</td>\n      <td>52.45</td>\n      <td>8944.0</td>\n      <td>3.37</td>\n      <td>54.68</td>\n      <td>52.6120</td>\n      <td>52.615</td>\n      <td>52.166</td>\n      <td>49.6886</td>\n      <td>...</td>\n      <td>1.966213</td>\n      <td>-1.642213</td>\n      <td>5.78035</td>\n      <td>1</td>\n      <td>1</td>\n      <td>1</td>\n      <td>2017</td>\n      <td>17</td>\n      <td>17</td>\n      <td>3</td>\n    </tr>\n    <tr>\n      <th>10</th>\n      <td>7630</td>\n      <td>2017-01-18</td>\n      <td>51.12</td>\n      <td>8944.0</td>\n      <td>3.26</td>\n      <td>53.77</td>\n      <td>52.5715</td>\n      <td>52.491</td>\n      <td>52.226</td>\n      <td>49.8178</td>\n      <td>...</td>\n      <td>3.353867</td>\n      <td>-0.450867</td>\n      <td>5.65575</td>\n      <td>2</td>\n      <td>1</td>\n      <td>1</td>\n      <td>2017</td>\n      <td>18</td>\n      <td>18</td>\n      <td>3</td>\n    </tr>\n    <tr>\n      <th>11</th>\n      <td>7631</td>\n      <td>2017-01-19</td>\n      <td>51.39</td>\n      <td>8944.0</td>\n      <td>3.25</td>\n      <td>53.18</td>\n      <td>52.5345</td>\n      <td>52.304</td>\n      <td>52.066</td>\n      <td>49.9642</td>\n      <td>...</td>\n      <td>3.110736</td>\n      <td>-0.821736</td>\n      <td>5.53440</td>\n      <td>3</td>\n      <td>1</td>\n      <td>1</td>\n      <td>2017</td>\n      <td>19</td>\n      <td>19</td>\n      <td>3</td>\n    </tr>\n    <tr>\n      <th>12</th>\n      <td>7632</td>\n      <td>2017-01-20</td>\n      <td>52.33</td>\n      <td>8961.0</td>\n      <td>3.23</td>\n      <td>55.04</td>\n      <td>52.5400</td>\n      <td>52.160</td>\n      <td>51.930</td>\n      <td>50.1132</td>\n      <td>...</td>\n      <td>2.173145</td>\n      <td>-1.753145</td>\n      <td>5.46695</td>\n      <td>4</td>\n      <td>1</td>\n      <td>1</td>\n      <td>2017</td>\n      <td>20</td>\n      <td>20</td>\n      <td>3</td>\n    </tr>\n    <tr>\n      <th>13</th>\n      <td>7633</td>\n      <td>2017-01-23</td>\n      <td>52.77</td>\n      <td>8961.0</td>\n      <td>3.16</td>\n      <td>54.80</td>\n      <td>52.6065</td>\n      <td>52.039</td>\n      <td>52.012</td>\n      <td>50.2694</td>\n      <td>...</td>\n      <td>1.731683</td>\n      <td>-2.058683</td>\n      <td>5.45610</td>\n      <td>0</td>\n      <td>1</td>\n      <td>1</td>\n      <td>2017</td>\n      <td>23</td>\n      <td>23</td>\n      <td>4</td>\n    </tr>\n    <tr>\n      <th>14</th>\n      <td>7634</td>\n      <td>2017-01-24</td>\n      <td>52.38</td>\n      <td>8961.0</td>\n      <td>3.16</td>\n      <td>54.70</td>\n      <td>52.6265</td>\n      <td>52.082</td>\n      <td>51.998</td>\n      <td>50.4130</td>\n      <td>...</td>\n      <td>2.122187</td>\n      <td>-1.629187</td>\n      <td>5.41290</td>\n      <td>1</td>\n      <td>1</td>\n      <td>1</td>\n      <td>2017</td>\n      <td>24</td>\n      <td>24</td>\n      <td>4</td>\n    </tr>\n    <tr>\n      <th>15</th>\n      <td>7635</td>\n      <td>2017-01-25</td>\n      <td>52.14</td>\n      <td>8961.0</td>\n      <td>3.26</td>\n      <td>54.34</td>\n      <td>52.6330</td>\n      <td>52.214</td>\n      <td>52.202</td>\n      <td>50.5634</td>\n      <td>...</td>\n      <td>2.360575</td>\n      <td>-1.374575</td>\n      <td>5.36100</td>\n      <td>2</td>\n      <td>1</td>\n      <td>1</td>\n      <td>2017</td>\n      <td>25</td>\n      <td>25</td>\n      <td>4</td>\n    </tr>\n    <tr>\n      <th>16</th>\n      <td>7636</td>\n      <td>2017-01-26</td>\n      <td>53.24</td>\n      <td>8961.0</td>\n      <td>3.44</td>\n      <td>55.89</td>\n      <td>52.6540</td>\n      <td>52.319</td>\n      <td>52.572</td>\n      <td>50.7604</td>\n      <td>...</td>\n      <td>1.299785</td>\n      <td>-2.471785</td>\n      <td>5.32640</td>\n      <td>3</td>\n      <td>1</td>\n      <td>1</td>\n      <td>2017</td>\n      <td>26</td>\n      <td>26</td>\n      <td>4</td>\n    </tr>\n    <tr>\n      <th>17</th>\n      <td>7637</td>\n      <td>2017-01-27</td>\n      <td>53.18</td>\n      <td>8915.0</td>\n      <td>3.31</td>\n      <td>54.80</td>\n      <td>52.6125</td>\n      <td>52.336</td>\n      <td>52.742</td>\n      <td>50.9582</td>\n      <td>...</td>\n      <td>1.226958</td>\n      <td>-2.361958</td>\n      <td>5.22750</td>\n      <td>4</td>\n      <td>1</td>\n      <td>1</td>\n      <td>2017</td>\n      <td>27</td>\n      <td>27</td>\n      <td>4</td>\n    </tr>\n    <tr>\n      <th>18</th>\n      <td>7638</td>\n      <td>2017-01-30</td>\n      <td>52.63</td>\n      <td>8915.0</td>\n      <td>3.22</td>\n      <td>54.77</td>\n      <td>52.5540</td>\n      <td>52.363</td>\n      <td>52.714</td>\n      <td>51.0936</td>\n      <td>...</td>\n      <td>1.629538</td>\n      <td>-1.781538</td>\n      <td>5.11310</td>\n      <td>0</td>\n      <td>1</td>\n      <td>1</td>\n      <td>2017</td>\n      <td>30</td>\n      <td>30</td>\n      <td>5</td>\n    </tr>\n    <tr>\n      <th>19</th>\n      <td>7639</td>\n      <td>2017-01-31</td>\n      <td>52.75</td>\n      <td>8915.0</td>\n      <td>3.00</td>\n      <td>55.25</td>\n      <td>52.5040</td>\n      <td>52.393</td>\n      <td>52.788</td>\n      <td>51.2374</td>\n      <td>...</td>\n      <td>1.368088</td>\n      <td>-1.860088</td>\n      <td>5.00135</td>\n      <td>1</td>\n      <td>1</td>\n      <td>1</td>\n      <td>2017</td>\n      <td>31</td>\n      <td>31</td>\n      <td>5</td>\n    </tr>\n    <tr>\n      <th>20</th>\n      <td>7640</td>\n      <td>2017-02-01</td>\n      <td>53.90</td>\n      <td>8915.0</td>\n      <td>3.15</td>\n      <td>55.79</td>\n      <td>52.5810</td>\n      <td>52.671</td>\n      <td>53.140</td>\n      <td>51.4080</td>\n      <td>...</td>\n      <td>0.409070</td>\n      <td>-3.047070</td>\n      <td>5.00755</td>\n      <td>2</td>\n      <td>1</td>\n      <td>2</td>\n      <td>2017</td>\n      <td>32</td>\n      <td>1</td>\n      <td>5</td>\n    </tr>\n    <tr>\n      <th>21</th>\n      <td>7641</td>\n      <td>2017-02-02</td>\n      <td>53.55</td>\n      <td>8915.0</td>\n      <td>3.13</td>\n      <td>55.94</td>\n      <td>52.5955</td>\n      <td>52.887</td>\n      <td>53.202</td>\n      <td>51.5652</td>\n      <td>...</td>\n      <td>0.802189</td>\n      <td>-2.711189</td>\n      <td>4.95870</td>\n      <td>3</td>\n      <td>1</td>\n      <td>2</td>\n      <td>2017</td>\n      <td>33</td>\n      <td>2</td>\n      <td>5</td>\n    </tr>\n    <tr>\n      <th>22</th>\n      <td>7642</td>\n      <td>2017-02-03</td>\n      <td>53.81</td>\n      <td>8978.0</td>\n      <td>3.13</td>\n      <td>55.92</td>\n      <td>52.5975</td>\n      <td>53.035</td>\n      <td>53.328</td>\n      <td>51.6918</td>\n      <td>...</td>\n      <td>0.549901</td>\n      <td>-2.974901</td>\n      <td>4.90525</td>\n      <td>4</td>\n      <td>1</td>\n      <td>2</td>\n      <td>2017</td>\n      <td>34</td>\n      <td>3</td>\n      <td>5</td>\n    </tr>\n    <tr>\n      <th>23</th>\n      <td>7643</td>\n      <td>2017-02-06</td>\n      <td>53.01</td>\n      <td>8978.0</td>\n      <td>2.92</td>\n      <td>55.02</td>\n      <td>52.5490</td>\n      <td>53.059</td>\n      <td>53.404</td>\n      <td>51.7906</td>\n      <td>...</td>\n      <td>1.191149</td>\n      <td>-2.113149</td>\n      <td>4.80760</td>\n      <td>0</td>\n      <td>1</td>\n      <td>2</td>\n      <td>2017</td>\n      <td>37</td>\n      <td>6</td>\n      <td>6</td>\n    </tr>\n    <tr>\n      <th>24</th>\n      <td>7644</td>\n      <td>2017-02-07</td>\n      <td>52.19</td>\n      <td>8978.0</td>\n      <td>3.03</td>\n      <td>53.79</td>\n      <td>52.5610</td>\n      <td>53.040</td>\n      <td>53.292</td>\n      <td>51.9000</td>\n      <td>...</td>\n      <td>2.008249</td>\n      <td>-1.266249</td>\n      <td>4.77245</td>\n      <td>1</td>\n      <td>1</td>\n      <td>2</td>\n      <td>2017</td>\n      <td>38</td>\n      <td>7</td>\n      <td>6</td>\n    </tr>\n    <tr>\n      <th>25</th>\n      <td>7645</td>\n      <td>2017-02-08</td>\n      <td>52.37</td>\n      <td>8978.0</td>\n      <td>3.05</td>\n      <td>54.42</td>\n      <td>52.6385</td>\n      <td>53.063</td>\n      <td>52.986</td>\n      <td>52.0130</td>\n      <td>...</td>\n      <td>1.691474</td>\n      <td>-1.154474</td>\n      <td>4.79645</td>\n      <td>2</td>\n      <td>1</td>\n      <td>2</td>\n      <td>2017</td>\n      <td>39</td>\n      <td>8</td>\n      <td>6</td>\n    </tr>\n    <tr>\n      <th>26</th>\n      <td>7646</td>\n      <td>2017-02-09</td>\n      <td>52.99</td>\n      <td>8978.0</td>\n      <td>3.11</td>\n      <td>53.98</td>\n      <td>52.6785</td>\n      <td>53.038</td>\n      <td>52.874</td>\n      <td>52.1596</td>\n      <td>...</td>\n      <td>1.103343</td>\n      <td>-1.726343</td>\n      <td>4.78410</td>\n      <td>3</td>\n      <td>1</td>\n      <td>2</td>\n      <td>2017</td>\n      <td>40</td>\n      <td>9</td>\n      <td>6</td>\n    </tr>\n    <tr>\n      <th>27</th>\n      <td>7647</td>\n      <td>2017-02-10</td>\n      <td>53.84</td>\n      <td>8977.0</td>\n      <td>3.11</td>\n      <td>55.20</td>\n      <td>52.7200</td>\n      <td>53.104</td>\n      <td>52.880</td>\n      <td>52.3306</td>\n      <td>...</td>\n      <td>0.381802</td>\n      <td>-2.621802</td>\n      <td>4.78285</td>\n      <td>4</td>\n      <td>1</td>\n      <td>2</td>\n      <td>2017</td>\n      <td>41</td>\n      <td>10</td>\n      <td>6</td>\n    </tr>\n    <tr>\n      <th>28</th>\n      <td>7648</td>\n      <td>2017-02-13</td>\n      <td>52.96</td>\n      <td>8977.0</td>\n      <td>2.93</td>\n      <td>54.15</td>\n      <td>52.7500</td>\n      <td>53.137</td>\n      <td>52.870</td>\n      <td>52.4016</td>\n      <td>...</td>\n      <td>1.285481</td>\n      <td>-1.705481</td>\n      <td>4.77820</td>\n      <td>0</td>\n      <td>1</td>\n      <td>2</td>\n      <td>2017</td>\n      <td>44</td>\n      <td>13</td>\n      <td>7</td>\n    </tr>\n    <tr>\n      <th>29</th>\n      <td>7649</td>\n      <td>2017-02-14</td>\n      <td>53.21</td>\n      <td>8977.0</td>\n      <td>2.85</td>\n      <td>54.96</td>\n      <td>52.7880</td>\n      <td>53.183</td>\n      <td>53.074</td>\n      <td>52.4442</td>\n      <td>...</td>\n      <td>1.079993</td>\n      <td>-1.923993</td>\n      <td>4.78005</td>\n      <td>1</td>\n      <td>1</td>\n      <td>2</td>\n      <td>2017</td>\n      <td>45</td>\n      <td>14</td>\n      <td>7</td>\n    </tr>\n    <tr>\n      <th>30</th>\n      <td>7650</td>\n      <td>2017-02-15</td>\n      <td>53.11</td>\n      <td>8977.0</td>\n      <td>2.95</td>\n      <td>54.57</td>\n      <td>52.8875</td>\n      <td>53.104</td>\n      <td>53.222</td>\n      <td>52.4724</td>\n      <td>...</td>\n      <td>1.062177</td>\n      <td>-1.507177</td>\n      <td>4.83775</td>\n      <td>2</td>\n      <td>1</td>\n      <td>2</td>\n      <td>2017</td>\n      <td>46</td>\n      <td>15</td>\n      <td>7</td>\n    </tr>\n    <tr>\n      <th>...</th>\n      <td>...</td>\n      <td>...</td>\n      <td>...</td>\n      <td>...</td>\n      <td>...</td>\n      <td>...</td>\n      <td>...</td>\n      <td>...</td>\n      <td>...</td>\n      <td>...</td>\n      <td>...</td>\n      <td>...</td>\n      <td>...</td>\n      <td>...</td>\n      <td>...</td>\n      <td>...</td>\n      <td>...</td>\n      <td>...</td>\n      <td>...</td>\n      <td>...</td>\n      <td>...</td>\n    </tr>\n    <tr>\n      <th>590</th>\n      <td>8210</td>\n      <td>2019-05-14</td>\n      <td>61.82</td>\n      <td>12100.0</td>\n      <td>2.70</td>\n      <td>72.53</td>\n      <td>63.2255</td>\n      <td>61.914</td>\n      <td>61.630</td>\n      <td>61.3814</td>\n      <td>...</td>\n      <td>4.645269</td>\n      <td>-1.834269</td>\n      <td>2.15300</td>\n      <td>1</td>\n      <td>2</td>\n      <td>5</td>\n      <td>2019</td>\n      <td>134</td>\n      <td>14</td>\n      <td>20</td>\n    </tr>\n    <tr>\n      <th>591</th>\n      <td>8211</td>\n      <td>2019-05-15</td>\n      <td>62.03</td>\n      <td>12100.0</td>\n      <td>2.69</td>\n      <td>73.09</td>\n      <td>63.1265</td>\n      <td>61.762</td>\n      <td>61.610</td>\n      <td>61.4910</td>\n      <td>...</td>\n      <td>4.356279</td>\n      <td>-2.163279</td>\n      <td>2.09950</td>\n      <td>2</td>\n      <td>2</td>\n      <td>5</td>\n      <td>2019</td>\n      <td>135</td>\n      <td>15</td>\n      <td>20</td>\n    </tr>\n    <tr>\n      <th>592</th>\n      <td>8212</td>\n      <td>2019-05-16</td>\n      <td>62.93</td>\n      <td>12100.0</td>\n      <td>2.62</td>\n      <td>74.70</td>\n      <td>63.0860</td>\n      <td>61.880</td>\n      <td>61.880</td>\n      <td>61.6252</td>\n      <td>...</td>\n      <td>3.403791</td>\n      <td>-3.091791</td>\n      <td>2.10230</td>\n      <td>3</td>\n      <td>2</td>\n      <td>5</td>\n      <td>2019</td>\n      <td>136</td>\n      <td>16</td>\n      <td>20</td>\n    </tr>\n    <tr>\n      <th>593</th>\n      <td>8213</td>\n      <td>2019-05-17</td>\n      <td>62.77</td>\n      <td>12200.0</td>\n      <td>2.61</td>\n      <td>73.94</td>\n      <td>63.0235</td>\n      <td>61.959</td>\n      <td>62.104</td>\n      <td>61.7486</td>\n      <td>...</td>\n      <td>3.473603</td>\n      <td>-2.966603</td>\n      <td>2.06925</td>\n      <td>4</td>\n      <td>2</td>\n      <td>5</td>\n      <td>2019</td>\n      <td>137</td>\n      <td>17</td>\n      <td>20</td>\n    </tr>\n    <tr>\n      <th>594</th>\n      <td>8214</td>\n      <td>2019-05-20</td>\n      <td>63.12</td>\n      <td>12200.0</td>\n      <td>2.70</td>\n      <td>73.21</td>\n      <td>62.8965</td>\n      <td>62.041</td>\n      <td>62.534</td>\n      <td>61.8956</td>\n      <td>...</td>\n      <td>2.749666</td>\n      <td>-3.196666</td>\n      <td>1.98260</td>\n      <td>0</td>\n      <td>2</td>\n      <td>5</td>\n      <td>2019</td>\n      <td>140</td>\n      <td>20</td>\n      <td>21</td>\n    </tr>\n    <tr>\n      <th>595</th>\n      <td>8215</td>\n      <td>2019-05-21</td>\n      <td>63.02</td>\n      <td>12200.0</td>\n      <td>2.73</td>\n      <td>72.94</td>\n      <td>62.7355</td>\n      <td>62.202</td>\n      <td>62.774</td>\n      <td>62.0202</td>\n      <td>...</td>\n      <td>2.241428</td>\n      <td>-2.810428</td>\n      <td>1.85590</td>\n      <td>1</td>\n      <td>2</td>\n      <td>5</td>\n      <td>2019</td>\n      <td>141</td>\n      <td>21</td>\n      <td>21</td>\n    </tr>\n    <tr>\n      <th>596</th>\n      <td>8216</td>\n      <td>2019-05-22</td>\n      <td>61.42</td>\n      <td>12200.0</td>\n      <td>2.73</td>\n      <td>71.94</td>\n      <td>62.5085</td>\n      <td>62.131</td>\n      <td>62.652</td>\n      <td>62.1108</td>\n      <td>...</td>\n      <td>3.171466</td>\n      <td>-0.994466</td>\n      <td>1.66580</td>\n      <td>2</td>\n      <td>2</td>\n      <td>5</td>\n      <td>2019</td>\n      <td>142</td>\n      <td>22</td>\n      <td>21</td>\n    </tr>\n    <tr>\n      <th>597</th>\n      <td>8217</td>\n      <td>2019-05-23</td>\n      <td>57.65</td>\n      <td>12200.0</td>\n      <td>2.56</td>\n      <td>68.37</td>\n      <td>62.1295</td>\n      <td>61.738</td>\n      <td>61.596</td>\n      <td>62.0984</td>\n      <td>...</td>\n      <td>7.152354</td>\n      <td>1.806646</td>\n      <td>1.34330</td>\n      <td>3</td>\n      <td>2</td>\n      <td>5</td>\n      <td>2019</td>\n      <td>143</td>\n      <td>23</td>\n      <td>21</td>\n    </tr>\n    <tr>\n      <th>598</th>\n      <td>8218</td>\n      <td>2019-05-24</td>\n      <td>58.40</td>\n      <td>12300.0</td>\n      <td>2.60</td>\n      <td>67.98</td>\n      <td>61.8850</td>\n      <td>61.413</td>\n      <td>60.722</td>\n      <td>62.0946</td>\n      <td>...</td>\n      <td>6.573229</td>\n      <td>0.396771</td>\n      <td>1.14925</td>\n      <td>4</td>\n      <td>2</td>\n      <td>5</td>\n      <td>2019</td>\n      <td>144</td>\n      <td>24</td>\n      <td>21</td>\n    </tr>\n    <tr>\n      <th>599</th>\n      <td>8219</td>\n      <td>2019-05-28</td>\n      <td>58.91</td>\n      <td>12300.0</td>\n      <td>2.65</td>\n      <td>70.19</td>\n      <td>61.6610</td>\n      <td>61.207</td>\n      <td>59.880</td>\n      <td>62.1026</td>\n      <td>...</td>\n      <td>6.023970</td>\n      <td>-0.521970</td>\n      <td>0.97575</td>\n      <td>1</td>\n      <td>2</td>\n      <td>5</td>\n      <td>2019</td>\n      <td>148</td>\n      <td>28</td>\n      <td>22</td>\n    </tr>\n    <tr>\n      <th>600</th>\n      <td>8220</td>\n      <td>2019-05-29</td>\n      <td>58.84</td>\n      <td>12300.0</td>\n      <td>2.69</td>\n      <td>70.64</td>\n      <td>61.4115</td>\n      <td>60.909</td>\n      <td>59.044</td>\n      <td>62.0976</td>\n      <td>...</td>\n      <td>5.908440</td>\n      <td>-0.765440</td>\n      <td>0.77790</td>\n      <td>2</td>\n      <td>2</td>\n      <td>5</td>\n      <td>2019</td>\n      <td>149</td>\n      <td>29</td>\n      <td>22</td>\n    </tr>\n    <tr>\n      <th>601</th>\n      <td>8221</td>\n      <td>2019-05-30</td>\n      <td>56.47</td>\n      <td>12300.0</td>\n      <td>2.69</td>\n      <td>69.55</td>\n      <td>61.0575</td>\n      <td>60.353</td>\n      <td>58.054</td>\n      <td>62.0446</td>\n      <td>...</td>\n      <td>8.432688</td>\n      <td>0.742312</td>\n      <td>0.47615</td>\n      <td>3</td>\n      <td>2</td>\n      <td>5</td>\n      <td>2019</td>\n      <td>150</td>\n      <td>30</td>\n      <td>22</td>\n    </tr>\n    <tr>\n      <th>602</th>\n      <td>8222</td>\n      <td>2019-05-31</td>\n      <td>53.49</td>\n      <td>12400.0</td>\n      <td>2.59</td>\n      <td>66.78</td>\n      <td>60.6445</td>\n      <td>59.409</td>\n      <td>57.222</td>\n      <td>61.9120</td>\n      <td>...</td>\n      <td>12.255730</td>\n      <td>2.053270</td>\n      <td>0.12975</td>\n      <td>4</td>\n      <td>2</td>\n      <td>5</td>\n      <td>2019</td>\n      <td>151</td>\n      <td>31</td>\n      <td>22</td>\n    </tr>\n    <tr>\n      <th>603</th>\n      <td>8223</td>\n      <td>2019-06-03</td>\n      <td>53.25</td>\n      <td>12400.0</td>\n      <td>2.50</td>\n      <td>63.16</td>\n      <td>60.2080</td>\n      <td>58.457</td>\n      <td>56.192</td>\n      <td>61.7774</td>\n      <td>...</td>\n      <td>12.987603</td>\n      <td>0.928397</td>\n      <td>0.23495</td>\n      <td>0</td>\n      <td>2</td>\n      <td>6</td>\n      <td>2019</td>\n      <td>154</td>\n      <td>3</td>\n      <td>23</td>\n    </tr>\n    <tr>\n      <th>604</th>\n      <td>8224</td>\n      <td>2019-06-04</td>\n      <td>53.50</td>\n      <td>12400.0</td>\n      <td>2.45</td>\n      <td>63.56</td>\n      <td>59.7680</td>\n      <td>57.495</td>\n      <td>55.110</td>\n      <td>61.6700</td>\n      <td>...</td>\n      <td>12.908233</td>\n      <td>-0.372233</td>\n      <td>0.60620</td>\n      <td>1</td>\n      <td>2</td>\n      <td>6</td>\n      <td>2019</td>\n      <td>155</td>\n      <td>4</td>\n      <td>23</td>\n    </tr>\n    <tr>\n      <th>605</th>\n      <td>8225</td>\n      <td>2019-06-05</td>\n      <td>51.57</td>\n      <td>12400.0</td>\n      <td>2.45</td>\n      <td>62.14</td>\n      <td>59.2760</td>\n      <td>56.350</td>\n      <td>53.656</td>\n      <td>61.5272</td>\n      <td>...</td>\n      <td>15.232935</td>\n      <td>0.179065</td>\n      <td>1.02085</td>\n      <td>2</td>\n      <td>2</td>\n      <td>6</td>\n      <td>2019</td>\n      <td>156</td>\n      <td>5</td>\n      <td>23</td>\n    </tr>\n    <tr>\n      <th>606</th>\n      <td>8226</td>\n      <td>2019-06-06</td>\n      <td>52.59</td>\n      <td>12400.0</td>\n      <td>2.40</td>\n      <td>62.77</td>\n      <td>58.7990</td>\n      <td>55.467</td>\n      <td>52.880</td>\n      <td>61.3816</td>\n      <td>...</td>\n      <td>14.170973</td>\n      <td>-1.752973</td>\n      <td>1.43545</td>\n      <td>3</td>\n      <td>2</td>\n      <td>6</td>\n      <td>2019</td>\n      <td>157</td>\n      <td>6</td>\n      <td>23</td>\n    </tr>\n    <tr>\n      <th>607</th>\n      <td>8227</td>\n      <td>2019-06-07</td>\n      <td>53.95</td>\n      <td>12300.0</td>\n      <td>2.43</td>\n      <td>64.10</td>\n      <td>58.4175</td>\n      <td>55.097</td>\n      <td>52.972</td>\n      <td>61.2728</td>\n      <td>...</td>\n      <td>12.597817</td>\n      <td>-3.662817</td>\n      <td>1.75950</td>\n      <td>4</td>\n      <td>2</td>\n      <td>6</td>\n      <td>2019</td>\n      <td>158</td>\n      <td>7</td>\n      <td>23</td>\n    </tr>\n    <tr>\n      <th>608</th>\n      <td>8228</td>\n      <td>2019-06-10</td>\n      <td>53.33</td>\n      <td>12300.0</td>\n      <td>2.42</td>\n      <td>64.31</td>\n      <td>58.0015</td>\n      <td>54.590</td>\n      <td>52.988</td>\n      <td>61.1536</td>\n      <td>...</td>\n      <td>12.955375</td>\n      <td>-3.612375</td>\n      <td>2.11250</td>\n      <td>0</td>\n      <td>2</td>\n      <td>6</td>\n      <td>2019</td>\n      <td>161</td>\n      <td>10</td>\n      <td>24</td>\n    </tr>\n    <tr>\n      <th>609</th>\n      <td>8229</td>\n      <td>2019-06-11</td>\n      <td>53.30</td>\n      <td>12300.0</td>\n      <td>2.41</td>\n      <td>63.56</td>\n      <td>57.6180</td>\n      <td>54.029</td>\n      <td>52.948</td>\n      <td>61.0158</td>\n      <td>...</td>\n      <td>12.732373</td>\n      <td>-4.096373</td>\n      <td>2.43000</td>\n      <td>1</td>\n      <td>2</td>\n      <td>6</td>\n      <td>2019</td>\n      <td>162</td>\n      <td>11</td>\n      <td>24</td>\n    </tr>\n    <tr>\n      <th>610</th>\n      <td>8230</td>\n      <td>2019-06-12</td>\n      <td>51.13</td>\n      <td>12300.0</td>\n      <td>2.43</td>\n      <td>61.66</td>\n      <td>57.0835</td>\n      <td>53.258</td>\n      <td>52.860</td>\n      <td>60.8066</td>\n      <td>...</td>\n      <td>14.598930</td>\n      <td>-2.691930</td>\n      <td>2.88355</td>\n      <td>2</td>\n      <td>2</td>\n      <td>6</td>\n      <td>2019</td>\n      <td>163</td>\n      <td>12</td>\n      <td>24</td>\n    </tr>\n    <tr>\n      <th>611</th>\n      <td>8231</td>\n      <td>2019-06-13</td>\n      <td>52.38</td>\n      <td>12300.0</td>\n      <td>2.43</td>\n      <td>63.28</td>\n      <td>56.6010</td>\n      <td>52.849</td>\n      <td>52.818</td>\n      <td>60.6036</td>\n      <td>...</td>\n      <td>12.780764</td>\n      <td>-4.338764</td>\n      <td>3.28870</td>\n      <td>3</td>\n      <td>2</td>\n      <td>6</td>\n      <td>2019</td>\n      <td>164</td>\n      <td>13</td>\n      <td>24</td>\n    </tr>\n    <tr>\n      <th>612</th>\n      <td>8232</td>\n      <td>2019-06-14</td>\n      <td>52.47</td>\n      <td>12200.0</td>\n      <td>2.37</td>\n      <td>63.13</td>\n      <td>56.0780</td>\n      <td>52.747</td>\n      <td>52.522</td>\n      <td>60.4038</td>\n      <td>...</td>\n      <td>11.810294</td>\n      <td>-4.594294</td>\n      <td>3.72840</td>\n      <td>4</td>\n      <td>2</td>\n      <td>6</td>\n      <td>2019</td>\n      <td>165</td>\n      <td>14</td>\n      <td>24</td>\n    </tr>\n    <tr>\n      <th>613</th>\n      <td>8233</td>\n      <td>2019-06-17</td>\n      <td>51.94</td>\n      <td>12200.0</td>\n      <td>2.46</td>\n      <td>62.56</td>\n      <td>55.5365</td>\n      <td>52.616</td>\n      <td>52.244</td>\n      <td>60.2002</td>\n      <td>...</td>\n      <td>11.356647</td>\n      <td>-4.163647</td>\n      <td>4.18105</td>\n      <td>0</td>\n      <td>2</td>\n      <td>6</td>\n      <td>2019</td>\n      <td>168</td>\n      <td>17</td>\n      <td>25</td>\n    </tr>\n    <tr>\n      <th>614</th>\n      <td>8234</td>\n      <td>2019-06-18</td>\n      <td>53.86</td>\n      <td>12200.0</td>\n      <td>2.44</td>\n      <td>63.35</td>\n      <td>55.0735</td>\n      <td>52.652</td>\n      <td>52.356</td>\n      <td>60.0154</td>\n      <td>...</td>\n      <td>8.127380</td>\n      <td>-5.700380</td>\n      <td>4.56350</td>\n      <td>1</td>\n      <td>2</td>\n      <td>6</td>\n      <td>2019</td>\n      <td>169</td>\n      <td>18</td>\n      <td>25</td>\n    </tr>\n    <tr>\n      <th>615</th>\n      <td>8235</td>\n      <td>2019-06-19</td>\n      <td>53.74</td>\n      <td>12200.0</td>\n      <td>2.43</td>\n      <td>62.85</td>\n      <td>54.6095</td>\n      <td>52.869</td>\n      <td>52.878</td>\n      <td>59.8028</td>\n      <td>...</td>\n      <td>6.698352</td>\n      <td>-4.959352</td>\n      <td>4.95350</td>\n      <td>2</td>\n      <td>2</td>\n      <td>6</td>\n      <td>2019</td>\n      <td>170</td>\n      <td>19</td>\n      <td>25</td>\n    </tr>\n    <tr>\n      <th>616</th>\n      <td>8236</td>\n      <td>2019-06-20</td>\n      <td>56.88</td>\n      <td>12200.0</td>\n      <td>2.38</td>\n      <td>65.44</td>\n      <td>54.3825</td>\n      <td>53.298</td>\n      <td>53.778</td>\n      <td>59.6594</td>\n      <td>...</td>\n      <td>2.510396</td>\n      <td>-7.505396</td>\n      <td>5.11650</td>\n      <td>3</td>\n      <td>2</td>\n      <td>6</td>\n      <td>2019</td>\n      <td>171</td>\n      <td>20</td>\n      <td>25</td>\n    </tr>\n    <tr>\n      <th>617</th>\n      <td>8237</td>\n      <td>2019-06-21</td>\n      <td>57.35</td>\n      <td>12100.0</td>\n      <td>2.27</td>\n      <td>65.99</td>\n      <td>54.3675</td>\n      <td>53.638</td>\n      <td>54.754</td>\n      <td>59.5140</td>\n      <td>...</td>\n      <td>1.985829</td>\n      <td>-7.950829</td>\n      <td>5.06700</td>\n      <td>4</td>\n      <td>2</td>\n      <td>6</td>\n      <td>2019</td>\n      <td>172</td>\n      <td>21</td>\n      <td>25</td>\n    </tr>\n    <tr>\n      <th>618</th>\n      <td>8238</td>\n      <td>2019-06-24</td>\n      <td>57.73</td>\n      <td>12100.0</td>\n      <td>2.31</td>\n      <td>65.16</td>\n      <td>54.3340</td>\n      <td>54.078</td>\n      <td>55.912</td>\n      <td>59.3964</td>\n      <td>...</td>\n      <td>1.465736</td>\n      <td>-8.257736</td>\n      <td>5.03995</td>\n      <td>0</td>\n      <td>2</td>\n      <td>6</td>\n      <td>2019</td>\n      <td>175</td>\n      <td>24</td>\n      <td>26</td>\n    </tr>\n    <tr>\n      <th>619</th>\n      <td>8239</td>\n      <td>2019-06-25</td>\n      <td>57.63</td>\n      <td>12100.0</td>\n      <td>2.31</td>\n      <td>66.24</td>\n      <td>54.2700</td>\n      <td>54.511</td>\n      <td>56.666</td>\n      <td>59.2718</td>\n      <td>...</td>\n      <td>1.276587</td>\n      <td>-7.996587</td>\n      <td>5.04300</td>\n      <td>1</td>\n      <td>2</td>\n      <td>6</td>\n      <td>2019</td>\n      <td>176</td>\n      <td>25</td>\n      <td>26</td>\n    </tr>\n  </tbody>\n</table>\n<p>619 rows × 30 columns</p>\n</div>",
      "text/plain": "     Unnamed: 0        Date  Prices  OilProduction  NatGasPrices  BrentPrices  \\\n1          7621  2017-01-04   53.26         8770.0          3.42        54.57   \n2          7622  2017-01-05   53.77         8770.0          3.42        54.99   \n3          7623  2017-01-06   53.98         8946.0          3.38        55.90   \n4          7624  2017-01-09   51.95         8946.0          3.14        54.39   \n5          7625  2017-01-10   50.82         8946.0          3.21        53.20   \n..          ...         ...     ...            ...           ...          ...   \n615        8235  2019-06-19   53.74        12200.0          2.43        62.85   \n616        8236  2019-06-20   56.88        12200.0          2.38        65.44   \n617        8237  2019-06-21   57.35        12100.0          2.27        65.99   \n618        8238  2019-06-24   57.73        12100.0          2.31        65.16   \n619        8239  2019-06-25   57.63        12100.0          2.31        66.24   \n\n      20dSMA  10dSMA   5dSMA   50dSMA  ...  distFromTopBoll  distFromLowBoll  \\\n1    52.1250  52.765  53.436  48.9904  ...         1.104948        -3.374948   \n2    52.2660  52.920  53.388  49.0622  ...         0.779132        -3.787132   \n3    52.4725  53.174  53.424  49.1528  ...         0.595539        -3.610539   \n4    52.5280  53.171  53.064  49.2168  ...         2.554415        -1.398415   \n5    52.4935  53.052  52.756  49.2390  ...         3.746467        -0.399467   \n..       ...     ...     ...      ...  ...              ...              ...   \n615  54.6095  52.869  52.878  59.8028  ...         6.698352        -4.959352   \n616  54.3825  53.298  53.778  59.6594  ...         2.510396        -7.505396   \n617  54.3675  53.638  54.754  59.5140  ...         1.985829        -7.950829   \n618  54.3340  54.078  55.912  59.3964  ...         1.465736        -8.257736   \n619  54.2700  54.511  56.666  59.2718  ...         1.276587        -7.996587   \n\n     20d200dDist  dayofweek  quarter  month  year  dayofyear  dayofmonth  \\\n1        5.88610          2        1      1  2017          4           4   \n2        5.96550          3        1      1  2017          5           5   \n3        6.09350          4        1      1  2017          6           6   \n4        6.07995          0        1      1  2017          9           9   \n5        5.98130          1        1      1  2017         10          10   \n..           ...        ...      ...    ...   ...        ...         ...   \n615      4.95350          2        2      6  2019        170          19   \n616      5.11650          3        2      6  2019        171          20   \n617      5.06700          4        2      6  2019        172          21   \n618      5.03995          0        2      6  2019        175          24   \n619      5.04300          1        2      6  2019        176          25   \n\n     weekofyear  \n1             1  \n2             1  \n3             1  \n4             2  \n5             2  \n..          ...  \n615          25  \n616          25  \n617          25  \n618          26  \n619          26  \n\n[619 rows x 30 columns]"
     },
     "execution_count": 451,
     "metadata": {},
     "output_type": "execute_result"
    }
   ],
   "source": [
    "X = df[feat]\n",
    "df_train[feat]\n",
    "df_train[df_train.isna().any(axis=1)]\n",
    "test = df_train.iloc[1:]\n",
    "test"
   ]
  },
  {
   "cell_type": "code",
   "execution_count": 452,
   "metadata": {},
   "outputs": [],
   "source": [
    "df_train = create_features(df_train,features=feat, shift = 0, nonShiftFeatures=nonShiftFeat)\n",
    "feat = ['Prices']#,'Momentum_14', 'MACD_12_26', 'RSI_14','20d200dDist','dayofmonth','weekofyear']\n",
    "nonShiftFeat = ['Prices','dayofmonth','weekofyear']\n",
    "df_test = create_features(df_test,features=feat, shift = 0, nonShiftFeatures=nonShiftFeat)\n",
    "\n"
   ]
  },
  {
   "cell_type": "code",
   "execution_count": 453,
   "metadata": {},
   "outputs": [],
   "source": [
    "feat = ['Prices']#,'Momentum_14', 'MACD_12_26', 'RSI_14','20d200dDist','dayofmonth','weekofyear']\n",
    "nonShiftFeat = ['Prices','dayofmonth','weekofyear']\n",
    "x = df_train.loc[:,feat].values"
   ]
  },
  {
   "cell_type": "code",
   "execution_count": 454,
   "metadata": {},
   "outputs": [],
   "source": [
    "from sklearn.preprocessing import MinMaxScaler\n",
    "sc = MinMaxScaler(feature_range=(0,1))\n",
    "\n",
    "x_train = sc.fit_transform(x)\n",
    "x_test = sc.transform(df_test.loc[:,feat])"
   ]
  },
  {
   "cell_type": "code",
   "execution_count": 455,
   "metadata": {},
   "outputs": [],
   "source": [
    "# print(\"Deleting unused dataframes of total size(KB)\",(sys.getsizeof(df)+sys.getsizeof(df_train)+sys.getsizeof(df_test))//1024)\n",
    "# del df\n",
    "# del df_test\n",
    "# del df_train\n",
    "# del x"
   ]
  },
  {
   "cell_type": "code",
   "execution_count": 456,
   "metadata": {},
   "outputs": [],
   "source": [
    "def build_timeseries(mat, y_col_index):\n",
    "    \"\"\"\n",
    "    Converts ndarray into timeseries format and supervised data format. Takes first TIME_STEPS\n",
    "    number of rows as input and sets the TIME_STEPS+1th data as corresponding output and so on.\n",
    "    :param mat: ndarray which holds the dataset\n",
    "    :param y_col_index: index of column which acts as output\n",
    "    :return: returns two ndarrays-- input and output in format suitable to feed\n",
    "    to LSTM.\n",
    "    \"\"\"\n",
    "    # total number of time-series samples would be len(mat) - TIME_STEPS\n",
    "    dim_0 = mat.shape[0] - TIME_STEPS\n",
    "    dim_1 = mat.shape[1]\n",
    "    x = np.zeros((dim_0, TIME_STEPS, dim_1))\n",
    "    y = np.zeros((dim_0,))\n",
    "    print(\"dim_0\",dim_0)\n",
    "    for i in tqdm_notebook(range(dim_0)):\n",
    "        x[i] = mat[i:TIME_STEPS+i]\n",
    "        y[i] = mat[TIME_STEPS+i, y_col_index]\n",
    "#         if i < 10:\n",
    "#           print(i,\"-->\", x[i,-1,:], y[i])\n",
    "    print(\"length of time-series i/o\",x.shape,y.shape)\n",
    "    return x, y\n",
    "\n",
    "\n",
    "def trim_dataset(mat, batch_size):\n",
    "    \"\"\"\n",
    "    trims dataset to a size that's divisible by BATCH_SIZE\n",
    "    \"\"\"\n",
    "    no_of_rows_drop = mat.shape[0]%batch_size\n",
    "    if(no_of_rows_drop > 0):\n",
    "        return mat[:-no_of_rows_drop]\n",
    "    else:\n",
    "        return mat"
   ]
  },
  {
   "cell_type": "code",
   "execution_count": 457,
   "metadata": {},
   "outputs": [
    {
     "name": "stdout",
     "output_type": "stream",
     "text": "(775, 30)\nIndex(['Unnamed: 0', 'Date', 'Prices', 'OilProduction', 'NatGasPrices',\n       'BrentPrices', '20dSMA', '10dSMA', '5dSMA', '50dSMA', '200dSMA',\n       'boll_lo', 'boll_hi', 'Momentum_14', 'MACD_12_26', 'MACDsign_12_26',\n       'MACDdiff_12_26', 'ROC_14', 'RSI_14', 'bollAmplitude',\n       'distFromTopBoll', 'distFromLowBoll', '20d200dDist', 'dayofweek',\n       'quarter', 'month', 'year', 'dayofyear', 'dayofmonth', 'weekofyear'],\n      dtype='object')\nUnnamed: 0           int64\nDate                object\nPrices             float64\nOilProduction      float64\nNatGasPrices       float64\nBrentPrices        float64\n20dSMA             float64\n10dSMA             float64\n5dSMA              float64\n50dSMA             float64\n200dSMA            float64\nboll_lo            float64\nboll_hi            float64\nMomentum_14        float64\nMACD_12_26         float64\nMACDsign_12_26     float64\nMACDdiff_12_26     float64\nROC_14             float64\nRSI_14             float64\nbollAmplitude      float64\ndistFromTopBoll    float64\ndistFromLowBoll    float64\n20d200dDist        float64\ndayofweek            int64\nquarter              int64\nmonth                int64\nyear                 int64\ndayofyear            int64\ndayofmonth           int64\nweekofyear           int64\ndtype: object\nTrain--Test size 620 155\n/anaconda3/envs/mlcourse/lib/python3.7/site-packages/tqdm/std.py:658: FutureWarning: The Panel class is removed from pandas. Accessing it from the top-level namespace will also be removed in the next version\n  from pandas import Panel\n"
    }
   ],
   "source": [
    "tqdm_notebook.pandas('Processing...')\n",
    "# df_ge = process_dataframe(df_ge)\n",
    "print(df.shape)\n",
    "print(df.columns)\n",
    "print(df.dtypes)\n",
    "print(\"Train--Test size\", len(df_train), len(df_test))"
   ]
  },
  {
   "cell_type": "code",
   "execution_count": 458,
   "metadata": {},
   "outputs": [
    {
     "name": "stdout",
     "output_type": "stream",
     "text": "Are any NaNs present in train/test matrices? False False\ndim_0 615\n"
    },
    {
     "data": {
      "application/vnd.jupyter.widget-view+json": {
       "model_id": "50755084f38441569c8a7bcddb8ab3d3",
       "version_major": 2,
       "version_minor": 0
      },
      "text/plain": "HBox(children=(FloatProgress(value=0.0, max=615.0), HTML(value='')))"
     },
     "metadata": {},
     "output_type": "display_data"
    },
    {
     "name": "stdout",
     "output_type": "stream",
     "text": "\nlength of time-series i/o (615, 5, 1) (615,)\nBatch trimmed size (600, 5, 1) (600,)\n"
    }
   ],
   "source": [
    "print(\"Are any NaNs present in train/test matrices?\",np.isnan(x_train).any(), np.isnan(x_train).any())\n",
    "target_idx = 0\n",
    "x_t, y_t = build_timeseries(x_train, target_idx)\n",
    "x_t = trim_dataset(x_t, BATCH_SIZE)\n",
    "y_t = trim_dataset(y_t, BATCH_SIZE)\n",
    "print(\"Batch trimmed size\",x_t.shape, y_t.shape)"
   ]
  },
  {
   "cell_type": "code",
   "execution_count": 459,
   "metadata": {},
   "outputs": [
    {
     "name": "stdout",
     "output_type": "stream",
     "text": "dim_0 150\n"
    },
    {
     "data": {
      "application/vnd.jupyter.widget-view+json": {
       "model_id": "c25c7f06272343dca7b4097186d2b62a",
       "version_major": 2,
       "version_minor": 0
      },
      "text/plain": "HBox(children=(FloatProgress(value=0.0, max=150.0), HTML(value='')))"
     },
     "metadata": {},
     "output_type": "display_data"
    },
    {
     "name": "stdout",
     "output_type": "stream",
     "text": "\nlength of time-series i/o (150, 5, 1) (150,)\nTest size (70, 5, 1) (70,) (70, 5, 1) (70,)\n"
    }
   ],
   "source": [
    "x_temp, y_temp = build_timeseries(x_test, target_idx)\n",
    "x_val, x_test_t = np.split(trim_dataset(x_temp, BATCH_SIZE),2)\n",
    "y_val, y_test_t = np.split(trim_dataset(y_temp, BATCH_SIZE),2)\n",
    "\n",
    "print(\"Test size\", x_test_t.shape, y_test_t.shape, x_val.shape, y_val.shape)\n"
   ]
  },
  {
   "cell_type": "code",
   "execution_count": 460,
   "metadata": {},
   "outputs": [
    {
     "data": {
      "text/plain": "array([0.41740624, 0.42570856, 0.43200687, 0.50959061, 0.49957057,\n       0.50128829, 0.4815345 , 0.42828514, 0.40137418, 0.36072144,\n       0.3704552 , 0.3833381 , 0.40366447, 0.38419697, 0.38362439,\n       0.38820498, 0.41139422, 0.44546235, 0.45949041, 0.31949614,\n       0.37761237, 0.34783853, 0.31835099, 0.24792442, 0.2897223 ,\n       0.34154022, 0.35785857, 0.41711995, 0.36301174, 0.34440309,\n       0.35356427, 0.39393072, 0.392213  , 0.37703979, 0.36787861,\n       0.33209276, 0.31663327, 0.35814486, 0.38018895, 0.40624105,\n       0.36043516, 0.32722588, 0.39335814, 0.3965073 , 0.39994274,\n       0.44088176, 0.42628113, 0.37732608, 0.36215288, 0.35156026,\n       0.5903235 , 0.48038935, 0.44975666, 0.44975666, 0.44202691,\n       0.464071  , 0.42198683, 0.39793873, 0.39393072, 0.3856284 ,\n       0.33237904, 0.31835099, 0.29172631, 0.28428285, 0.29659319,\n       0.29430289, 0.29086745, 0.29058116, 0.31749213, 0.35156026])"
     },
     "execution_count": 460,
     "metadata": {},
     "output_type": "execute_result"
    }
   ],
   "source": [
    "x_temp\n",
    "y_val"
   ]
  },
  {
   "cell_type": "code",
   "execution_count": 461,
   "metadata": {},
   "outputs": [],
   "source": [
    "# lr = 0.1\n",
    "# lstm_model = Sequential()\n",
    "# lstm_model.add(LSTM(100, batch_input_shape=(BATCH_SIZE, TIME_STEPS, x_t.shape[2]), dropout=0.0, recurrent_dropout=0.0, stateful=True,     kernel_initializer='random_uniform'))\n",
    "# lstm_model.add(Dropout(0.5))\n",
    "# lstm_model.add(Dense(20,activation='relu'))\n",
    "# lstm_model.add(Dense(1,activation='sigmoid'))\n",
    "# optimizer = optimizers.RMSprop(lr=lr)\n",
    "# lstm_model.compile(loss='mean_squared_error', optimizer=optimizer)\n",
    "\n",
    "def create_model():\n",
    "    lstm_model = Sequential()\n",
    "    # (batch_size, timesteps, data_dim)\n",
    "    lstm_model.add(LSTM(100, batch_input_shape=(BATCH_SIZE, TIME_STEPS, x_t.shape[2]),\n",
    "                        dropout=0.0, recurrent_dropout=0.0, stateful=True, return_sequences=True,\n",
    "                        kernel_initializer='random_uniform'))\n",
    "    lstm_model.add(Dropout(0.4))\n",
    "    lstm_model.add(LSTM(60, dropout=0.0))\n",
    "    lstm_model.add(Dropout(0.4))\n",
    "    lstm_model.add(Dense(20,activation='relu'))\n",
    "    lstm_model.add(Dense(1,activation='sigmoid'))\n",
    "    optimizer = optimizers.RMSprop(lr=params[\"lr\"])\n",
    "    # optimizer = optimizers.SGD(lr=0.000001, decay=1e-6, momentum=0.9, nesterov=True)\n",
    "    lstm_model.compile(loss='mean_squared_error', optimizer=optimizer)\n",
    "    return lstm_model\n",
    "\n",
    "# model = Sequential()\n",
    "# model.add(LSTM(units=50,return_sequences=True,input_shape=(X_train.shape[1], 1)))\n",
    "# model.add(Dropout(0.2))\n",
    "# model.add(LSTM(units=50,return_sequences=True))\n",
    "# model.add(Dropout(0.2))\n",
    "# model.add(LSTM(units=50,return_sequences=True))\n",
    "# model.add(Dropout(0.2))\n",
    "# model.add(LSTM(units=50))\n",
    "# model.add(Dropout(0.2))\n",
    "# model.add(Dense(units=1))\n",
    "# model.compile(optimizer='adam',loss='mean_squared_error')\n",
    "# model.fit(X_train,y_train,epochs=100,batch_size=32)"
   ]
  },
  {
   "cell_type": "code",
   "execution_count": 462,
   "metadata": {},
   "outputs": [],
   "source": [
    "model = None\n",
    "try:\n",
    "    model = pickle.load(open(modFileName, 'rb'))\n",
    "    print(\"Loaded saved model...\")\n",
    "except FileNotFoundError:\n",
    "    print(\"Model not found\")\n",
    "\n",
    "if model is None or is_update_model:\n",
    "    from keras import backend as K\n",
    "    print(\"Building model...\")\n",
    "    print(\"checking if GPU available\", K.tensorflow_backend._get_available_gpus())\n",
    "    model = create_model()\n",
    "    \n",
    "    es = EarlyStopping(monitor='val_loss', mode='min', verbose=1,\n",
    "                       patience=40, min_delta=0.0001)\n",
    "    \n",
    "    mcp = ModelCheckpoint(os.path.join(OUTPUT_PATH,\n",
    "                          \"best_model.h5\"), monitor='val_loss', verbose=1,\n",
    "                          save_best_only=True, save_weights_only=False, mode='min', period=1)\n",
    "\n",
    "    # Not used here. But leaving it here as a reminder for future\n",
    "    r_lr_plat = ReduceLROnPlateau(monitor='val_loss', factor=0.1, patience=30, \n",
    "                                  verbose=0, mode='auto', min_delta=0.0001, cooldown=0, min_lr=0)\n",
    "    \n",
    "    csv_logger = CSVLogger(os.path.join(OUTPUT_PATH, 'training_log_' + time.ctime().replace(\" \",\"_\") + '.log'), append=True)\n",
    "    \n",
    "    history = model.fit(x_t, y_t, epochs=params[\"epochs\"], verbose=2, batch_size=BATCH_SIZE,\n",
    "                        shuffle=False, validation_data=(trim_dataset(x_val, BATCH_SIZE),\n",
    "                        trim_dataset(y_val, BATCH_SIZE)), callbacks=[es, mcp, csv_logger])\n",
    "    \n",
    "    print(\"saving model...\")\n",
    "    pickle.dump(model, open(modFileName, \"wb\"))\n"
   ]
  },
  {
   "cell_type": "code",
   "execution_count": 0,
   "metadata": {},
   "outputs": [],
   "source": [
    "# OUTPUT_PATH = \"/Users/qw19176/Documents/Courses/Team-Cpp/\"\n",
    "# csv_logger = CSVLogger(os.path.join(OUTPUT_PATH, 'LSTMRegressor' + '.log'), append=True)\n",
    "# epochs = 100\n",
    "# history = lstm_model.fit(x_t, y_t, epochs=epochs, verbose=2, batch_size=BATCH_SIZE,\n",
    "#                     shuffle=False, validation_data=(trim_dataset(x_val, BATCH_SIZE),\n",
    "#                     trim_dataset(y_val, BATCH_SIZE)), callbacks=[csv_logger])"
   ]
  },
  {
   "cell_type": "code",
   "execution_count": 0,
   "metadata": {},
   "outputs": [],
   "source": [
    "# search_params = {\n",
    "#     \"batch_size\": [20, 30, 40],\n",
    "#     \"time_steps\": [30, 60, 90], \n",
    "#     \"lr\": [0.01, 0.001, 0.0001],\n",
    "#     \"epochs\": [30, 50, 70]\n",
    "# }\n",
    "\n",
    "# def eval_model():\n",
    "#     \"\"\"\n",
    "#     implement your logic to build a model, train it and then calculate validation loss.\n",
    "#     Save this validation loss using CSVLogger of Keras or in a text file. Later you can\n",
    "#     query to get the best combination.\n",
    "#     \"\"\"\n",
    "#     pass\n",
    "\n",
    "# def get_all_combinations(params):\n",
    "#     all_names = params.keys()\n",
    "#     combinations = it.product(*(params[name] for name in all_names))\n",
    "#     return list(combinations)\n",
    "\n",
    "# def run_search(mat, params):\n",
    "#     param_combs = get_all_combinations(params) # list of tuples\n",
    "#     logging.info(\"Total combinations to try = {}\".format(len(param_combs)))\n",
    "#     for i, combination in enumerate(param_combs):\n",
    "#         logging.info(\"Trying combo no. {} {}\".format(i, combination))\n",
    "#         eval_model(mat, combination, i)\n",
    "\n",
    "# run_search(x_input, search_params)"
   ]
  },
  {
   "cell_type": "code",
   "execution_count": 0,
   "metadata": {},
   "outputs": [],
   "source": [
    "# model.evaluate(x_test_t, y_test_t, batch_size=BATCH_SIZE\n",
    "y_pred = model.predict(trim_dataset(x_test_t, BATCH_SIZE), batch_size=BATCH_SIZE)\n",
    "y_pred = y_pred.flatten()\n",
    "y_test_t = trim_dataset(y_test_t, BATCH_SIZE)\n",
    "error = mean_squared_error(y_test_t, y_pred)\n",
    "print(\"Error is\", error, y_pred.shape, y_test_t.shape)\n",
    "print(y_pred[0:15])\n",
    "print(y_test_t[0:15])"
   ]
  },
  {
   "cell_type": "code",
   "execution_count": 0,
   "metadata": {},
   "outputs": [],
   "source": [
    "# convert the predicted value to range of real data\n",
    "y_pred_org = (y_pred * sc.data_range_[target_idx]) + sc.data_min_[target_idx]\n",
    "# min_max_scaler.inverse_transform(y_pred)\n",
    "y_test_t_org = (y_test_t * sc.data_range_[target_idx]) + sc.data_min_[target_idx]\n",
    "# min_max_scaler.inverse_transform(y_test_t)\n",
    "print(y_pred_org[0:15])\n",
    "print(y_test_t_org[0:15])"
   ]
  },
  {
   "cell_type": "code",
   "execution_count": 0,
   "metadata": {},
   "outputs": [],
   "source": [
    "# Visualize the training data\n",
    "from matplotlib import pyplot as plt\n",
    "plt.figure()\n",
    "plt.plot(history.history['loss'])\n",
    "plt.plot(history.history['val_loss'])\n",
    "plt.title('Model loss')\n",
    "plt.ylabel('Loss')\n",
    "plt.xlabel('Epoch')\n",
    "plt.legend(['Train', 'Test'], loc='upper left')\n",
    "#plt.show()\n",
    "plt.savefig(os.path.join(OUTPUT_PATH, 'train_vis_BS_'+str(BATCH_SIZE)+\"_\"+time.ctime()+'.png'))"
   ]
  },
  {
   "cell_type": "code",
   "execution_count": 0,
   "metadata": {},
   "outputs": [],
   "source": [
    "# load the saved best model from above\n",
    "saved_model = load_model(os.path.join(OUTPUT_PATH, 'best_model.h5')) # , \"lstm_best_7-3-19_12AM\",\n",
    "print(saved_model)"
   ]
  },
  {
   "cell_type": "code",
   "execution_count": 0,
   "metadata": {},
   "outputs": [],
   "source": [
    "y_pred = saved_model.predict(trim_dataset(x_test_t, BATCH_SIZE), batch_size=BATCH_SIZE)\n",
    "y_pred = y_pred.flatten()\n",
    "y_test_t = trim_dataset(y_test_t, BATCH_SIZE)\n",
    "error = mean_squared_error(y_test_t, y_pred)\n",
    "print(\"Error is\", error, y_pred.shape, y_test_t.shape)\n",
    "print(y_pred[0:15])\n",
    "print(y_test_t[0:15])\n",
    "y_pred_org = (y_pred * sc.data_range_[target_idx]) + sc.data_min_[target_idx] # min_max_scaler.inverse_transform(y_pred)\n",
    "y_test_t_org = (y_test_t * sc.data_range_[target_idx]) + sc.data_min_[target_idx] # min_max_scaler.inverse_transform(y_test_t)\n",
    "print(y_pred_org[0:15])\n",
    "print(y_test_t_org[0:15])"
   ]
  },
  {
   "cell_type": "code",
   "execution_count": 0,
   "metadata": {},
   "outputs": [],
   "source": [
    "# Visualize the prediction\n",
    "from matplotlib import pyplot as plt\n",
    "plt.figure()\n",
    "plt.plot(y_pred_org)\n",
    "plt.plot(y_test_t_org)\n",
    "plt.title('Prediction vs Real Stock Price')\n",
    "plt.ylabel('Price')\n",
    "plt.xlabel('Days')\n",
    "plt.legend(['Prediction', 'Real'], loc='upper left')\n",
    "#plt.show()\n",
    "plt.savefig(os.path.join(OUTPUT_PATH, 'pred_vs_real_BS'+str(BATCH_SIZE)+\"_\"+time.ctime()+'.png'))\n",
    "print_time(\"program completed \", stime)"
   ]
  },
  {
   "cell_type": "code",
   "execution_count": null,
   "metadata": {},
   "outputs": [],
   "source": []
  },
  {
   "cell_type": "code",
   "execution_count": null,
   "metadata": {},
   "outputs": [],
   "source": [
    "\"\"\"\n",
    "TALOS OPTIMISATION\n",
    "\n",
    "NOT IMPLEMENTED YET\n",
    "\"\"\"\n",
    "\n",
    "def data(search_params):\n",
    "    \"\"\"\n",
    "    The function that prepares the data for LSTM training specific to this problem as per values in search_params.\n",
    "    \"\"\"\n",
    "    global mat\n",
    "\n",
    "    BATCH_SIZE = search_params[\"batch_size\"]\n",
    "    TIME_STEPS = search_params[\"time_steps\"]\n",
    "    x_train, x_test = train_test_split(mat, train_size=0.8, test_size=0.2, shuffle=False)\n",
    "\n",
    "    # scale the train and test dataset\n",
    "    min_max_scaler = MinMaxScaler()\n",
    "    x_train = min_max_scaler.fit_transform(x_train)\n",
    "    x_test = min_max_scaler.transform(x_test)\n",
    "\n",
    "    x_train_ts, y_train_ts = build_timeseries(x_train, 3, TIME_STEPS)\n",
    "    x_test_ts, y_test_ts = build_timeseries(x_test, 3, TIME_STEPS)\n",
    "    x_train_ts = trim_dataset(x_train_ts, BATCH_SIZE)\n",
    "    y_train_ts = trim_dataset(y_train_ts, BATCH_SIZE)\n",
    "    x_test_ts = trim_dataset(x_test_ts, BATCH_SIZE)\n",
    "    y_test_ts = trim_dataset(y_test_ts, BATCH_SIZE)\n",
    "    print(\"Test size(trimmed) {}, {}\".format(x_test_ts.shape, y_test_ts.shape))\n",
    "    return x_train_ts, y_train_ts, x_test_ts, y_test_ts\n",
    "  \n",
    "  def create_model_talos(x_train_ts, y_train_ts, x_test_ts, y_test_ts, params):\n",
    "    \"\"\"\n",
    "    function that builds model, trains, evaluates on validation data and returns Keras history object and model for\n",
    "    talos scanning. Here I am creating data inside function because data preparation varies as per the selected value of \n",
    "    batch_size and time_steps during searching. So we ignore data that's received here as argument from scan method of Talos.\n",
    "    \"\"\"\n",
    "    x_train_ts, y_train_ts, x_test_ts, y_test_ts = data(params)\n",
    "    BATCH_SIZE = params[\"batch_size\"]\n",
    "    TIME_STEPS = params[\"time_steps\"]\n",
    "    lstm_model = Sequential()\n",
    "    # (batch_size, timesteps, data_dim)\n",
    "    lstm_model.add(LSTM(params[\"lstm1_nodes\"], batch_input_shape=(BATCH_SIZE, TIME_STEPS, x_train_ts.shape[2]), dropout=0.2,\n",
    "                        recurrent_dropout=0.2, stateful=True, return_sequences=True,\n",
    "                        kernel_initializer='random_uniform'))\n",
    "    if params[\"lstm_layers\"] == 2:\n",
    "        lstm_model.add(LSTM(params[\"lstm2_nodes\"], dropout=0.2))\n",
    "    else:\n",
    "        lstm_model.add(Flatten())\n",
    "\n",
    "    if params[\"dense_layers\"] == 2:\n",
    "        lstm_model.add(Dense(params[\"dense2_nodes\"], activation='relu'))\n",
    "\n",
    "    lstm_model.add(Dense(1, activation='sigmoid'))\n",
    "    if params[\"optimizer\"] == 'rms':\n",
    "        optimizer = optimizers.RMSprop(lr=params[\"lr\"])\n",
    "    else:\n",
    "        optimizer = optimizers.SGD(lr=params[\"lr\"], decay=1e-6, momentum=0.9, nesterov=True)\n",
    "    lstm_model.compile(loss='mean_squared_error', optimizer=optimizer)  # binary_crossentropy\n",
    "    history = lstm_model.fit(x_train_ts, y_train_ts, epochs=params[\"epochs\"], verbose=2, batch_size=BATCH_SIZE,\n",
    "                             validation_data=[x_test_ts, y_test_ts],\n",
    "                             callbacks=[LogMetrics(search_params, params, -1), csv_logger])\n",
    "    return history, lstm_model\n",
    "  \n",
    "print(\"Starting Talos scanning...\")\n",
    "t = ta.Scan(x=mat, # data parameter is ignored in this example as here data varies based on batch_size & time_steps\n",
    "            y=mat[:,0], # dummy data just to avoid errors. input and output calculated in create_model_talos\n",
    "            model=create_model_talos,\n",
    "            params=search_params,\n",
    "            dataset_name='stock_ge',\n",
    "            experiment_no='1',\n",
    "            reduction_interval=10)\n",
    "\n",
    "pickle.dump(t, open(os.path.join(OUTPUT_PATH,\"talos_res\"),\"wb\"))"
   ]
  },
  {
   "cell_type": "code",
   "execution_count": null,
   "metadata": {},
   "outputs": [],
   "source": []
  },
  {
   "cell_type": "code",
   "execution_count": 5,
   "metadata": {},
   "outputs": [],
   "source": [
    "features = [\"easy\", \"easter\", \"eastmas\", \"estover\"]\n",
    "nonShiftFeatures = [\"easy\", \"easter\"]\n"
   ]
  },
  {
   "cell_type": "code",
   "execution_count": 7,
   "metadata": {},
   "outputs": [
    {
     "data": {
      "text/plain": "['eastmas', 'estover']"
     },
     "execution_count": 7,
     "metadata": {},
     "output_type": "execute_result"
    }
   ],
   "source": [
    "for f in nonShiftFeatures:\n",
    "    features.remove(f)\n",
    "features"
   ]
  },
  {
   "cell_type": "code",
   "execution_count": null,
   "metadata": {},
   "outputs": [],
   "source": []
  }
 ]
}
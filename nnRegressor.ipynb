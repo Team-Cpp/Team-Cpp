{
 "nbformat": 4,
 "nbformat_minor": 2,
 "metadata": {
  "language_info": {
   "name": "python",
   "codemirror_mode": {
    "name": "ipython",
    "version": 3
   },
   "version": "3.7.3-final"
  },
  "orig_nbformat": 2,
  "file_extension": ".py",
  "mimetype": "text/x-python",
  "name": "python",
  "npconvert_exporter": "python",
  "pygments_lexer": "ipython3",
  "version": 3,
  "kernelspec": {
   "name": "python3",
   "display_name": "Python 3"
  }
 },
 "cells": [
  {
   "cell_type": "code",
   "execution_count": 14,
   "metadata": {},
   "outputs": [],
   "source": [
    "import os\n",
    "import sys\n",
    "import warnings\n",
    "import numpy as np\n",
    "import rrsBdtDevDependencies\n",
    "import dataFunctions as dataFun\n",
    "from datetime import datetime as dt\n",
    "import matplotlib.pyplot as plt\n",
    "import pandas as pd\n",
    "import quandl\n",
    "import yfinance as yf\n",
    "import tensorflow as tf\n"
   ]
  },
  {
   "cell_type": "code",
   "execution_count": 9,
   "metadata": {},
   "outputs": [],
   "source": [
    "### CONFIGURE ###\n",
    "barrels = 750000\n",
    "costPerDay = 30000\n",
    "daysToPredict = 1\n",
    "trainDataDate = '2018-01-01'\n",
    "testSplitDate = '2020-01-20'"
   ]
  },
  {
   "cell_type": "code",
   "execution_count": 10,
   "metadata": {},
   "outputs": [
    {
     "name": "stdout",
     "output_type": "stream",
     "text": "Running...\n"
    }
   ],
   "source": [
    "print('Running...')\n",
    "\n",
    "def show_more(df, lines):\n",
    "    with pd.option_context(\"display.max_rows\", lines):\n",
    "        display(df)"
   ]
  },
  {
   "cell_type": "code",
   "execution_count": 11,
   "metadata": {},
   "outputs": [],
   "source": [
    "def create_features(df, features, label=None, shift = 0, nonShiftFeatures = None):\n",
    "    df = df.set_index('Date')\n",
    "    #X = df[['OilProduction', 'NatGasPrices', 'BrentPrices', '20dSMA', 'Momentum_14', 'MACD_12_26', 'MACDdiff_12_26', 'ROC_14', 'RSI_14', 'bollAmplitude', 'distFromTopBoll', 'distFromLowBoll', '20d200dDist','dayofyear','dayofmonth','weekofyear']]\n",
    "\n",
    "    # X = df[['OilProduction', '20dSMA', 'Momentum_14', 'MACD_12_26', 'MACDdiff_12_26', 'ROC_14', 'RSI_14', 'bollAmplitude', 'distFromTopBoll', 'distFromLowBoll', '20d200dDist','dayofyear','dayofmonth','weekofyear']]\n",
    "    # if shift > 0:\n",
    "    #     tiems = X[['dayofyear','dayofmonth','weekofyear']]\n",
    "    #     #X = X[['OilProduction', 'NatGasPrices', 'BrentPrices', '20dSMA', 'Momentum_14', 'MACD_12_26', 'MACDdiff_12_26','ROC_14', 'RSI_14', 'bollAmplitude', 'distFromTopBoll', 'distFromLowBoll', '20d200dDist']].shift(shift)\n",
    "    #     X = X[['OilProduction', '20dSMA', 'Momentum_14', 'MACD_12_26', 'MACDdiff_12_26','ROC_14', 'RSI_14', 'bollAmplitude', 'distFromTopBoll', 'distFromLowBoll', '20d200dDist']].shift(shift)\n",
    "    #     X = X.merge(tiems, how='inner', left_index=True, right_index=True)\n",
    "\n",
    "    X = df[features]\n",
    "    if shift > 0:\n",
    "        tiems = X[nonShiftFeatures]\n",
    "        newFeatures = features\n",
    "        for f in nonShiftFeatures:\n",
    "            newFeatures.remove(f)\n",
    "        X = X[newFeatures].shift(shift)\n",
    "        X = X.merge(tiems, how='inner', left_index=True, right_index=True)\n",
    "\n",
    "    if label:\n",
    "        y = df[label]\n",
    "        return X, y\n",
    "    return X"
   ]
  },
  {
   "cell_type": "code",
   "execution_count": 15,
   "metadata": {},
   "outputs": [
    {
     "name": "stdout",
     "output_type": "stream",
     "text": "[*********************100%***********************]  1 of 1 completed\n[*********************100%***********************]  1 of 1 completed\n[*********************100%***********************]  1 of 1 completed\n"
    }
   ],
   "source": [
    "\"\"\"\n",
    "Getting WTI price data \n",
    "\"\"\"\n",
    "\n",
    "wtiData = quandl.get(\"FRED/DCOILWTICO\")\n",
    "wtiData.reset_index(level=0, inplace=True)\n",
    "wtiData = wtiData.rename(columns={\"Value\": \"Prices\"})\n",
    "yfStartDate = wtiData['Date'].iloc[-1].strftime('%Y-%m-%d')\n",
    "stocks = \"CL=F\"\n",
    "period = \"1d\"\n",
    "Stocks, yfInfo = dataFun.yFinData(yfStartDate)\n",
    "wtiData = wtiData.append(Stocks, ignore_index =True)\n",
    "wtiData = wtiData.sort_values(by = [\"Date\"])\n",
    "\n",
    "# Getting Oil production data and combining dataframes\n",
    "oilDF = dataFun.oilProduction()\n",
    "df = dataFun.combineFrames(wtiData,oilDF)\n",
    "df = df[np.isfinite(df['Prices'])]\n",
    "df = df.reset_index().drop([\"index\"], axis = 1)\n",
    "\n",
    "# Getting natural gas data and combining frames\n",
    "natGasData = quandl.get(\"EIA/NG_RNGWHHD_D\")\n",
    "natGasData.reset_index(level=0, inplace=True)\n",
    "natGasData = natGasData.rename(columns={\"Value\": \"NatGasPrices\"})\n",
    "yfStartDate = natGasData['Date'].iloc[-1].strftime('%Y-%m-%d')\n",
    "stocks = \"NG=F\"\n",
    "period = \"1d\"\n",
    "NGStocks, yfInfo = dataFun.yFinData(yfStartDate,stock=stocks,name =\"NatGasPrices\")\n",
    "natGasData = natGasData.append(NGStocks, ignore_index =True)\n",
    "natGasData = natGasData.sort_values(by = [\"Date\"])\n",
    "newdf = pd.merge(df, natGasData, on=['Date'], how =\"left\")\n",
    "\n",
    "\"\"\"\n",
    "Getting Brent oil data and combining dataframes\n",
    "\"\"\"\n",
    "\n",
    "brentData = quandl.get(\"FRED/DCOILBRENTEU\")\n",
    "brentData.reset_index(level=0, inplace=True)\n",
    "name = \"BrentPrices\"\n",
    "brentData = brentData.rename(columns={\"Value\": name})\n",
    "yfStartDate = brentData['Date'].iloc[-1].strftime('%Y-%m-%d')\n",
    "stocks = \"BZ=F\"\n",
    "period = \"1d\"\n",
    "BStocks, yfInfo = dataFun.yFinData(yfStartDate,stock=stocks,name = name)\n",
    "brentData = brentData.append(BStocks, ignore_index =True)\n",
    "brentData = brentData.sort_values(by = [\"Date\"])\n",
    "df = pd.merge(newdf, brentData, on=['Date'], how =\"left\")\n",
    "\n",
    "df[\"BrentPrices\"] = df[\"BrentPrices\"].interpolate(method='nearest')\n",
    "df[\"NatGasPrices\"] = df[\"NatGasPrices\"].interpolate(method='nearest')\n",
    "\n",
    "# Calculating the technical indicators for price data\n",
    "df = df.reset_index().drop([\"index\"], axis = 1)\n",
    "df[\"20dSMA\"] = dataFun.SMA(20, df[\"Prices\"])\n",
    "df[\"10dSMA\"] = dataFun.SMA(10, df[\"Prices\"])\n",
    "df[\"5dSMA\"] = dataFun.SMA(5, df[\"Prices\"])\n",
    "df[\"50dSMA\"] = dataFun.SMA(50, df[\"Prices\"])\n",
    "df[\"200dSMA\"] = dataFun.SMA(200, df[\"Prices\"])\n",
    "\n",
    "\n",
    "df[\"boll_lo\"] = dataFun.bollinger(df['Prices'])[0]\n",
    "df[\"boll_hi\"] = dataFun.bollinger(df['Prices'])[1]\n",
    "\n",
    "df = dataFun.momentum(df, 14)\n",
    "df = dataFun.macd(df, 12, 26)\n",
    "df = dataFun.rate_of_change(df, 14)\n",
    "df = dataFun.relative_strength_index(df)\n",
    "\n",
    "df[\"boll_hi\"] = pd.to_numeric(df[\"boll_hi\"])\n",
    "df[\"boll_lo\"] = pd.to_numeric(df[\"boll_lo\"])\n",
    "df[\"20dSMA\"] = pd.to_numeric(df[\"20dSMA\"])\n",
    "df[\"10dSMA\"] = pd.to_numeric(df[\"10dSMA\"])\n",
    "df[\"5dSMA\"] = pd.to_numeric(df[\"5dSMA\"])\n",
    "df[\"50dSMA\"] = pd.to_numeric(df[\"50dSMA\"])\n",
    "df[\"200dSMA\"] = pd.to_numeric(df[\"200dSMA\"])\n",
    "\n",
    "df[\"bollAmplitude\"] = df[\"boll_hi\"] - df[\"boll_lo\"]\n",
    "df[\"distFromTopBoll\"] = df[\"boll_hi\"] - df[\"Prices\"]\n",
    "df[\"distFromLowBoll\"] = df[\"boll_lo\"] - df[\"Prices\"]\n",
    "df[\"20d200dDist\"] = np.abs(df[\"20dSMA\"] - df[\"200dSMA\"])\n",
    "\n"
   ]
  },
  {
   "cell_type": "code",
   "execution_count": 16,
   "metadata": {},
   "outputs": [],
   "source": [
    "\"\"\"\n",
    "Processing the resultant data frame\n",
    "\"\"\"\n",
    "\n",
    "df = df[df[\"Date\"] > trainDataDate]\n",
    "df = df[np.isfinite(df['200dSMA'])]\n",
    "df = df.rename(columns={\"Production of Crude Oil\": \"OilProduction\"})\n",
    "df = df.drop_duplicates(\"Date\",keep=\"first\")\n",
    "df = df.reset_index().drop([\"index\"], axis = 1)"
   ]
  },
  {
   "cell_type": "code",
   "execution_count": 17,
   "metadata": {},
   "outputs": [],
   "source": [
    "\"\"\"\n",
    "Creating time series features from datetime index\n",
    "\"\"\"\n",
    "\n",
    "df['dayofweek'] = df['Date'].dt.dayofweek\n",
    "df['quarter'] = df['Date'].dt.quarter\n",
    "df['month'] = df['Date'].dt.month\n",
    "df['year'] = df['Date'].dt.year\n",
    "df['dayofyear'] = df['Date'].dt.dayofyear\n",
    "df['dayofmonth'] = df['Date'].dt.day\n",
    "df['weekofyear'] = df['Date'].dt.weekofyear"
   ]
  },
  {
   "cell_type": "code",
   "execution_count": 18,
   "metadata": {},
   "outputs": [],
   "source": [
    "df_train = df[df[\"Date\"] <= testSplitDate].copy()\n",
    "df_test = df[df[\"Date\"] > testSplitDate].copy()\n",
    "\n",
    "features = [\"Prices\"]\n",
    "training_set = df[features]\n",
    "\n",
    "#['OilProduction', '20dSMA', 'Momentum_14', 'MACD_12_26', 'MACDdiff_12_26', 'ROC_14', 'RSI_14', 'bollAmplitude', 'distFromTopBoll', 'distFromLowBoll', '20d200dDist','dayofyear','dayofmonth','weekofyear']\n",
    "#nonShiftFeatures = ['dayofyear','dayofmonth','weekofyear']\n",
    "\n",
    "# X_train, y_train = create_features(df_train,features,label='Prices', shift =1)\n",
    "# X_test, y_test = create_features(df_test,label='Prices', shift =1)\n",
    "# X_train = X_train.iloc[1:]\n",
    "# X_test = X_test.iloc[1:]\n",
    "# y_train = y_train.iloc[1:]\n",
    "# y_test = y_test.iloc[1:]"
   ]
  },
  {
   "cell_type": "code",
   "execution_count": 21,
   "metadata": {},
   "outputs": [
    {
     "data": {
      "text/plain": "array([[0.48253872],\n       [0.52019435],\n       [0.53143031],\n       [0.51655026],\n       [0.52383845],\n       [0.55997571],\n       [0.58062557],\n       [0.58700273],\n       [0.59945339],\n       [0.58730641],\n       [0.59034315],\n       [0.59155785],\n       [0.57394473],\n       [0.58244762],\n       [0.6064379 ],\n       [0.64409353],\n       [0.64196781],\n       [0.66170665],\n       [0.64470088],\n       [0.61220771],\n       [0.61767385],\n       [0.65107804],\n       [0.63832372],\n       [0.59823869],\n       [0.57698148],\n       [0.52930459],\n       [0.51078044],\n       [0.44700881],\n       [0.45338597],\n       [0.45095657],\n       [0.49255998],\n       [0.51624658],\n       [0.52869724],\n       [0.52930459],\n       [0.52383845],\n       [0.55390222],\n       [0.57819617],\n       [0.58700273],\n       [0.56058305],\n       [0.51472821],\n       [0.50106286],\n       [0.50744002],\n       [0.5469177 ],\n       [0.54843608],\n       [0.50440328],\n       [0.47525053],\n       [0.532645  ],\n       [0.51229882],\n       [0.4922563 ],\n       [0.49832979],\n       [0.506529  ],\n       [0.54084422],\n       [0.53234133],\n       [0.57364106],\n       [0.62617674],\n       [0.60036441],\n       [0.64743395],\n       [0.63802004],\n       [0.62951716],\n       [0.60188278],\n       [0.61919223],\n       [0.56392347],\n       [0.57485575],\n       [0.57303371],\n       [0.57849985],\n       [0.53294868],\n       [0.57455208],\n       [0.63771637],\n       [0.67810507],\n       [0.68600061],\n       [0.69450349],\n       [0.66049195],\n       [0.66869116],\n       [0.72760401],\n       [0.72335257],\n       [0.72213787],\n       [0.70239903],\n       [0.7039174 ],\n       [0.71424233],\n       [0.71970847],\n       [0.71758275],\n       [0.7312481 ],\n       [0.69237777],\n       [0.71150926],\n       [0.72790768],\n       [0.76617067],\n       [0.79744913],\n       [0.73944731],\n       [0.81020346],\n       [0.81627695],\n       [0.79593076],\n       [0.80564834],\n       [0.8156696 ],\n       [0.81840267],\n       [0.81961737],\n       [0.81232918],\n       [0.84360765],\n       [0.83844519],\n       [0.831157  ],\n       [0.79836016],\n       [0.71181294],\n       [0.6778014 ],\n       [0.72153052],\n       [0.68326754],\n       [0.64773763],\n       [0.61585181],\n       [0.63862739],\n       [0.61554813],\n       [0.65229274],\n       [0.64652293],\n       [0.65654418],\n       [0.66504707],\n       [0.67263893],\n       [0.68114182],\n       [0.62344367],\n       [0.65077437],\n       [0.62587306],\n       [0.65107804],\n       [0.64378986],\n       [0.74521713],\n       [0.77224415],\n       [0.93379897],\n       [1.        ],\n       [0.87974491],\n       [0.90039478],\n       [0.89310659],\n       [0.90221682],\n       [0.86759794],\n       [0.88976617],\n       [0.89432129],\n       [0.89978743],\n       [0.78924992],\n       [0.78348011],\n       [0.80625569],\n       [0.72092317],\n       [0.71515336],\n       [0.73792894],\n       [0.75736411],\n       [0.78439113],\n       [0.71120559],\n       [0.79836016],\n       [0.80929244],\n       [0.82326146],\n       [0.73428485],\n       [0.81111449],\n       [0.77133313],\n       [0.73853629],\n       [0.74309141],\n       [0.72912238],\n       [0.74491345],\n       [0.74977224],\n       [0.68144549],\n       [0.67810507],\n       [0.70239903],\n       [0.69146675],\n       [0.68508958],\n       [0.62526572],\n       [0.63650167],\n       [0.65138172],\n       [0.66869116],\n       [0.69359247],\n       [0.70968722],\n       [0.74855755],\n       [0.76617067],\n       [0.7740662 ],\n       [0.73064075],\n       [0.76525964],\n       [0.78256909],\n       [0.77011843],\n       [0.76951108],\n       [0.73519587],\n       [0.70847252],\n       [0.70604312],\n       [0.70057698],\n       [0.75341634],\n       [0.78621318],\n       [0.7324628 ],\n       [0.74400243],\n       [0.74035834],\n       [0.77102946],\n       [0.80777407],\n       [0.79836016],\n       [0.79927118],\n       [0.87306408],\n       [0.87822654],\n       [0.84239295],\n       [0.84117826],\n       [0.87093835],\n       [0.93805041],\n       [0.93167325],\n       [0.96932888],\n       [0.90980869],\n       [0.90434254],\n       [0.90464622],\n       [0.92529608],\n       [0.8715457 ],\n       [0.80443365],\n       [0.81779532],\n       [0.83085333],\n       [0.8335864 ],\n       [0.76374127],\n       [0.73337382],\n       [0.74946857],\n       [0.75220164],\n       [0.66838749],\n       [0.67051321],\n       [0.69146675],\n       [0.701488  ],\n       [0.68387489],\n       [0.65897358],\n       [0.6325539 ],\n       [0.58275129],\n       [0.5660492 ],\n       [0.5660492 ],\n       [0.53689645],\n       [0.52262375],\n       [0.49286365],\n       [0.47707258],\n       [0.46674765],\n       [0.33859702],\n       [0.35469177],\n       [0.36349833],\n       [0.36471303],\n       [0.38505922],\n       [0.27057394],\n       [0.30154874],\n       [0.21196477],\n       [0.20740966],\n       [0.16945035],\n       [0.21196477],\n       [0.19131491],\n       [0.25812329],\n       [0.2651078 ],\n       [0.24779836],\n       [0.21439417],\n       [0.25144245],\n       [0.20012147],\n       [0.21773459],\n       [0.19921045],\n       [0.24931673],\n       [0.20589128],\n       [0.16155481],\n       [0.04980261],\n       [0.10567871],\n       [0.03522624],\n       [0.0273307 ],\n       [0.04737322],\n       [0.        ],\n       [0.02034619],\n       [0.05557243],\n       [0.07409657],\n       [0.09960522],\n       [0.11509262],\n       [0.15487398],\n       [0.23413301],\n       [0.24111752],\n       [0.21135742],\n       [0.17704221],\n       [0.22228971],\n       [0.23079259],\n       [0.22320073],\n       [0.27695111],\n       [0.24627999],\n       [0.24172487],\n       [0.25690859],\n       [0.27482539],\n       [0.22198603],\n       [0.26085636],\n       [0.29456423],\n       [0.2842393 ],\n       [0.32827209],\n       [0.30640753],\n       [0.27968418],\n       [0.28727604],\n       [0.24901306],\n       [0.25113878],\n       [0.2414212 ],\n       [0.26298208],\n       [0.2842393 ],\n       [0.30124507],\n       [0.33707865],\n       [0.35347707],\n       [0.37716368],\n       [0.37868205],\n       [0.3805041 ],\n       [0.32918312],\n       [0.33161251],\n       [0.37777103],\n       [0.38657759],\n       [0.34254479],\n       [0.36805345],\n       [0.36653507],\n       [0.35651382],\n       [0.36805345],\n       [0.34284847],\n       [0.37382326],\n       [0.37686001],\n       [0.41876708],\n       [0.42848466],\n       [0.42605527],\n       [0.44366839],\n       [0.44457941],\n       [0.47494686],\n       [0.47069541],\n       [0.43698755],\n       [0.43212876],\n       [0.467355  ],\n       [0.45277862],\n       [0.44974188],\n       [0.47707258],\n       [0.519587  ],\n       [0.5481324 ],\n       [0.54600668],\n       [0.53568175],\n       [0.56544185],\n       [0.6040085 ],\n       [0.59429092],\n       [0.61160036],\n       [0.58092924],\n       [0.58852111],\n       [0.5754631 ],\n       [0.59307622],\n       [0.58487701],\n       [0.5933799 ],\n       [0.64318251],\n       [0.66079563],\n       [0.65229274],\n       [0.63012451],\n       [0.57121166],\n       [0.57424841],\n       [0.58761008],\n       [0.5791072 ],\n       [0.52444579],\n       [0.53143031],\n       [0.54114789],\n       [0.51412086],\n       [0.53598542],\n       [0.51928333],\n       [0.52140905],\n       [0.50075919],\n       [0.52657152],\n       [0.53294868],\n       [0.56027938],\n       [0.55542059],\n       [0.5660492 ],\n       [0.56301245],\n       [0.51442454],\n       [0.39993927],\n       [0.42271485],\n       [0.43820225],\n       [0.43607653],\n       [0.36410568],\n       [0.27361069],\n       [0.2663225 ],\n       [0.27391436],\n       [0.21530519],\n       [0.24627999],\n       [0.28757971],\n       [0.2687519 ],\n       [0.26784087],\n       [0.20194352],\n       [0.23990282],\n       [0.24263589],\n       [0.22654115],\n       [0.28484664],\n       [0.28120255],\n       [0.37655633],\n       [0.39082903],\n       [0.40236866],\n       [0.39933192],\n       [0.44609778],\n       [0.44640146],\n       [0.41664136],\n       [0.43820225],\n       [0.34983298],\n       [0.38202247],\n       [0.39082903],\n       [0.39750987],\n       [0.47980565],\n       [0.46917704],\n       [0.47099909],\n       [0.45004555],\n       [0.3935621 ],\n       [0.3650167 ],\n       [0.32189493],\n       [0.33221986],\n       [0.34588521],\n       [0.3674461 ],\n       [0.34679623],\n       [0.34618889],\n       [0.35104768],\n       [0.37564531],\n       [0.41178257],\n       [0.42666262],\n       [0.27816581],\n       [0.33981172],\n       [0.30822958],\n       [0.27695111],\n       [0.20224719],\n       [0.24658366],\n       [0.30154874],\n       [0.31885818],\n       [0.3817188 ],\n       [0.32432432],\n       [0.30458548],\n       [0.31430307],\n       [0.35712117],\n       [0.35529912],\n       [0.33920437],\n       [0.32948679],\n       [0.29152748],\n       [0.27512906],\n       [0.31916186],\n       [0.34254479],\n       [0.37017917],\n       [0.32159125],\n       [0.28636502],\n       [0.35651382],\n       [0.35985424],\n       [0.36349833],\n       [0.40692378],\n       [0.39143638],\n       [0.33950805],\n       [0.3234133 ],\n       [0.31217735],\n       [0.56544185],\n       [0.44883085],\n       [0.41633769],\n       [0.41633769],\n       [0.40813848],\n       [0.43152141],\n       [0.38688126],\n       [0.36137261],\n       [0.35712117],\n       [0.34831461],\n       [0.29183116],\n       [0.27695111],\n       [0.24870938],\n       [0.24081385],\n       [0.25387185],\n       [0.25144245],\n       [0.24779836],\n       [0.24749469],\n       [0.27604009],\n       [0.31217735],\n       [0.27604009],\n       [0.25296083],\n       [0.27148497],\n       [0.28575767],\n       [0.28150623],\n       [0.26723353],\n       [0.29547525],\n       [0.34679623],\n       [0.3531734 ],\n       [0.36562405],\n       [0.337686  ],\n       [0.32979046],\n       [0.31491042],\n       [0.28970544],\n       [0.35104768],\n       [0.35985424],\n       [0.38141512],\n       [0.3543881 ],\n       [0.37746735],\n       [0.38080777],\n       [0.36835712],\n       [0.37017917],\n       [0.37655633],\n       [0.36714242],\n       [0.39659885],\n       [0.37473428],\n       [0.31733981],\n       [0.37139387],\n       [0.42150015],\n       [0.40085029],\n       [0.40419071],\n       [0.41815973],\n       [0.41421196],\n       [0.34892196],\n       [0.3543881 ],\n       [0.4245369 ],\n       [0.4233222 ],\n       [0.44700881],\n       [0.44063164],\n       [0.44761616],\n       [0.43303978],\n       [0.44640146],\n       [0.47464318],\n       [0.47767993],\n       [0.49802612],\n       [0.49954449],\n       [0.51078044],\n       [0.48436077],\n       [0.48679016],\n       [0.50683268],\n       [0.52353477],\n       [0.52474947],\n       [0.52171272],\n       [0.50592165],\n       [0.50683268],\n       [0.5624051 ],\n       [0.57060431],\n       [0.55329487],\n       [0.46067416],\n       [0.45794109],\n       [0.44154267],\n       [0.41573034],\n       [0.4208928 ],\n       [0.40631643],\n       [0.42635894],\n       [0.42726997],\n       [0.41815973],\n       [0.37291224],\n       [0.33495293],\n       [0.29183116],\n       [0.26146371],\n       [0.28363194],\n       [0.26176734],\n       [0.25417548],\n       [0.21712727],\n       [0.19829937]])"
     },
     "execution_count": 21,
     "metadata": {},
     "output_type": "execute_result"
    }
   ],
   "source": [
    "from sklearn.preprocessing import MinMaxScaler\n",
    "sc = MinMaxScaler(feature_range=(0,1))\n",
    "training_set_scaled = sc.fit_transform(training_set)\n",
    "X_train = []\n",
    "y_train = []\n",
    "for i in range(60, 2035):\n",
    "X_train.append(training_set_scaled[i-60:i, 0])\n",
    "y_train.append(training_set_scaled[i, 0])\n",
    "X_train, y_train = np.array(X_train), np.array(y_train)\n",
    "X_train = np.reshape(X_train, (X_train.shape[0], X_train.shape[1], 1))"
   ]
  },
  {
   "cell_type": "code",
   "execution_count": null,
   "metadata": {},
   "outputs": [],
   "source": [
    "from keras.models import Sequential\n",
    "from keras.layers import LSTM\n",
    "from keras.layers import Dropout\n",
    "from keras.layers import Dense\n",
    "\n",
    "model = Sequential()\n",
    "model.add(LSTM(units=50,return_sequences=True,input_shape=(X_train.shape[1], 1)))\n",
    "model.add(Dropout(0.2))\n",
    "model.add(LSTM(units=50,return_sequences=True))\n",
    "model.add(Dropout(0.2))\n",
    "model.add(LSTM(units=50,return_sequences=True))\n",
    "model.add(Dropout(0.2))\n",
    "model.add(LSTM(units=50))\n",
    "model.add(Dropout(0.2))\n",
    "model.add(Dense(units=1))\n",
    "model.compile(optimizer='adam',loss='mean_squared_error')\n",
    "model.fit(X_train,y_train,epochs=100,batch_size=32)"
   ]
  },
  {
   "cell_type": "code",
   "execution_count": 19,
   "metadata": {},
   "outputs": [],
   "source": [
    "from sklearn.preprocessing import MinMaxScaler\n",
    "sc = MinMaxScaler(feature_range=(0,1))\n",
    "training_set_scaled = sc.fit_transform(training_set)"
   ]
  },
  {
   "cell_type": "code",
   "execution_count": null,
   "metadata": {},
   "outputs": [],
   "source": []
  },
  {
   "cell_type": "code",
   "execution_count": 5,
   "metadata": {},
   "outputs": [],
   "source": [
    "features = [\"easy\", \"easter\", \"eastmas\", \"estover\"]\n",
    "nonShiftFeatures = [\"easy\", \"easter\"]\n"
   ]
  },
  {
   "cell_type": "code",
   "execution_count": 7,
   "metadata": {},
   "outputs": [
    {
     "data": {
      "text/plain": "['eastmas', 'estover']"
     },
     "execution_count": 7,
     "metadata": {},
     "output_type": "execute_result"
    }
   ],
   "source": [
    "for f in nonShiftFeatures:\n",
    "    features.remove(f)\n",
    "features"
   ]
  },
  {
   "cell_type": "code",
   "execution_count": null,
   "metadata": {},
   "outputs": [],
   "source": []
  }
 ]
}